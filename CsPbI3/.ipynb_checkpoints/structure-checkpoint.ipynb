{
 "cells": [
  {
   "cell_type": "code",
   "execution_count": 2,
   "id": "014e45e9",
   "metadata": {
    "scrolled": true
   },
   "outputs": [
    {
     "data": {
      "application/vnd.jupyter.widget-view+json": {
       "model_id": "cbcc10e5b72a40579f12c837cb97f6b6",
       "version_major": 2,
       "version_minor": 0
      },
      "text/plain": []
     },
     "metadata": {},
     "output_type": "display_data"
    },
    {
     "name": "stderr",
     "output_type": "stream",
     "text": [
      "/home/ahlawat/.local/lib/python3.9/site-packages/ase/utils/geometry.py:8: UserWarning: Moved to ase.geometry and ase.build\n",
      "  warnings.warn('Moved to ase.geometry and ase.build')\n",
      "/home/ahlawat/.local/lib/python3.9/site-packages/ase/lattice/spacegroup.py:5: UserWarning: Moved to ase.spacegroup\n",
      "  warnings.warn('Moved to ase.spacegroup')\n",
      "/home/ahlawat/.local/lib/python3.9/site-packages/ase/lattice/surface.py:17: UserWarning: Moved to ase.build\n",
      "  warnings.warn('Moved to ase.build')\n"
     ]
    }
   ],
   "source": [
    "import matplotlib.pyplot as plt\n",
    "import numpy as np\n",
    "import subprocess\n",
    "import plumed\n",
    "import nglview\n",
    "from ase.optimize.sciopt import *               \n",
    "from ase.utils.geometry import *\n",
    "from ase.lattice.spacegroup import crystal\n",
    "from ase.visualize import *\n",
    "from ase.lattice.surface import surface\n",
    "from ase import Atoms\n",
    "from ase import io\n",
    "from ase.io import *\n",
    "from ase.io.cif import read_cif\n",
    "from ase.io.vasp import write_vasp\n",
    "from abtem.visualize import show_atoms\n",
    "from ase.visualize.plot import plot_atoms\n",
    "from ase.build import add_adsorbate\n",
    "from ase.io.proteindatabank import read_proteindatabank\n",
    "from ase.io.lammpsdata import write_lammps_data"
   ]
  },
  {
   "cell_type": "code",
   "execution_count": null,
   "id": "509aa1f0",
   "metadata": {},
   "outputs": [],
   "source": [
    "structure = io.read('cubic.cif')\n",
    "structure = sort(structure)\n",
    "structure = structure.repeat((1,1,1))\n",
    "structure = sort(structure)\n",
    "view(structure)\n",
    "write_vasp('cubic_unit_cell.vasp', structure, vasp5=True, direct=True)"
   ]
  },
  {
   "cell_type": "code",
   "execution_count": null,
   "id": "d3a926c2",
   "metadata": {},
   "outputs": [],
   "source": [
    "! rm *.vasp"
   ]
  },
  {
   "cell_type": "markdown",
   "id": "3b01cf67",
   "metadata": {},
   "source": [
    "## cubic 3C polymorph: http://dx.doi.org/10.1016/j.jpcs.2008.05.007\n",
    "- Experimental data\n",
    "   - ICSD 161481\n",
    "   - ICSD Structure : Cs I3 Pb\n",
    "   - Space Group: P m 3 m (221)\n",
    "   - Cell: a 6.2894Å b 6.2894Å c 6.2894Å, α 90° β 90° γ 90° "
   ]
  },
  {
   "cell_type": "code",
   "execution_count": null,
   "id": "3f49a82e",
   "metadata": {},
   "outputs": [],
   "source": [
    "structure = io.read('cubic.cif')\n",
    "structure = sort(structure)\n",
    "structure = structure.repeat((2,1,2))\n",
    "structure = sort(structure)\n",
    "view(structure)\n",
    "\n",
    "fig, (ax1, ax2, ax3) = plt.subplots(1, 3, figsize=(20,10))\n",
    "\n",
    "plot_atoms(structure, ax1, radii=0.5, rotation=('90x,0y,0z'))\n",
    "#ax1.set_xlim(-20, 30)\n",
    "ax1.set_xlabel(r'x[$\\AA$]')\n",
    "ax1.set_ylabel(r'z[$\\AA$]')\n",
    "\n",
    "plot_atoms(structure, ax2, radii=0.5, rotation=('90x,0y,0z'))\n",
    "#ax2.set_xlim(-20, 30)\n",
    "ax2.set_xlabel(r'x[$\\AA$]')\n",
    "ax2.set_ylabel(r'z[$\\AA$]')\n",
    "\n",
    "plot_atoms(structure, ax3, radii=0.5, rotation=('180x,0y,0z'))\n",
    "#ax3.set_xlim(-20, 30)\n",
    "ax3.set_xlabel(r'x[$\\AA$]')\n",
    "ax3.set_ylabel(r'y[$\\AA$]')\n",
    "\n",
    "#fig.savefig(\"ase_slab.png\")\n",
    "structure"
   ]
  },
  {
   "cell_type": "markdown",
   "id": "a86ee624",
   "metadata": {},
   "source": [
    "## prepare vasp/quantum espresso input file"
   ]
  },
  {
   "cell_type": "code",
   "execution_count": null,
   "id": "c8650ca0",
   "metadata": {},
   "outputs": [],
   "source": [
    "write_vasp('cubic.vasp', structure, vasp5=True, direct=True)\n",
    "\n",
    "inp_data={'prefix':\"cubic\",\n",
    "          'electron_maxstep':1000,\n",
    "          'outdir':\"./\",    -65.07439064\n",
    "          'pseudo_dir':\"/work/e89/e89/ahlawat/PP/\",\n",
    "          'calculation':'vc-relax',\n",
    "          'vdw_corr':'grimme-d3',\n",
    "          'ecutwfc':70.,\n",
    "          'occupations':'fixed',\n",
    "          'ecutrho':700.,   \n",
    "          'conv_thr':1e-8,\n",
    "          'electron_maxstep':500,\n",
    "          'ion_dynamics':'bfgs',\n",
    "          'cell_dynamics':'bfgs'}\n",
    "\n",
    "pseudos={\"Cs\":\"Cs.pbe-spn-rrkjus_psl.1.0.0.UPF\",       \n",
    "         \"I\":\"I.pbe-n-rrkjus_psl.0.2.UPF\", \n",
    "         \"Pb\":\"Pb.pbe-dn-rrkjus_psl.0.2.2.UPF\"}\n",
    "\n",
    "io.write(\"cubic_cspbi3.pwi\", \n",
    "         structure, \n",
    "         input_data=inp_data,\n",
    "         pseudopotentials=pseudos, \n",
    "         kpts=(2, 4, 2),\n",
    "         koffset=(0, 0, 0), \n",
    "         crystal_coordinates=False)\n"
   ]
  },
  {
   "cell_type": "markdown",
   "id": "7c76b8c1",
   "metadata": {},
   "source": [
    "# k-points vs energy"
   ]
  },
  {
   "cell_type": "code",
   "execution_count": null,
   "id": "b3c5a9a3",
   "metadata": {},
   "outputs": [],
   "source": [
    "# final_e = [ -378.36256991, -378.09603049,  -378.16345971,  -378.14942638, -378.15382279, -378.15239590] \n",
    "\n",
    "# k_points = [1,2,3,4,5,6]\n",
    "\n",
    "# fig, (ax) = plt.subplots(figsize=(6,6))\n",
    "\n",
    "# ax.plot(k_points,final_e, color='magenta', ls='--', lw=2, markersize=10, marker='h')\n",
    "# ax.set_xlabel('K-points', fontsize = 14)\n",
    "# ax.set_ylabel('Total energy (Ry)', fontsize = 14)\n",
    "# ax.tick_params(labelsize=12)\n",
    "# ax.set_title('K-points vs Total energy, wfc=70 Ry', fontsize=15)"
   ]
  },
  {
   "cell_type": "markdown",
   "id": "05873833",
   "metadata": {},
   "source": [
    "## wavefunction_cutoff tests  \n",
    "  - improvement need to remove '' in numbers"
   ]
  },
  {
   "cell_type": "markdown",
   "id": "b3be9cb8",
   "metadata": {},
   "source": []
  },
  {
   "cell_type": "code",
   "execution_count": null,
   "id": "ac43a411",
   "metadata": {},
   "outputs": [],
   "source": [
    "# structure = io.read('cubic.cif')\n",
    "# structure = sort(structure)\n",
    "# view(structure)\n",
    "# import os\n",
    "# newpath = r'./wfc_cutoff_test' \n",
    "# if not os.path.exists(newpath):\n",
    "#     os.makedirs(newpath)\n",
    "#     os.chdir(newpath)\n",
    "    \n",
    "# wf_cutoff = np.arange(20,140,10)\n",
    "\n",
    "# for wfc in wf_cutoff:\n",
    "#     rho_cut = wfc*10\n",
    "#     inp_data={'prefix':\"cubic-%d\" %wfc, \n",
    "#               'electron_maxstep':1000,\n",
    "#               'outdir':\"./\",    \n",
    "#               'pseudo_dir':\"/work/e89/e89/ahlawat/PP/\",\n",
    "#               'calculation':'relax',\n",
    "#               'vdw_corr':'grimme-d3',\n",
    "#               'ecutwfc': \"%d\" %wfc,\n",
    "#               'occupations':'fixed',\n",
    "#               'ecutrho':\"%d\" %rho_cut, \n",
    "#               'conv_thr':1e-8,\n",
    "#               'electron_maxstep':500,\n",
    "#               'ion_dynamics':'bfgs',\n",
    "#               'cell_dynamics':'bfgs'}\n",
    "\n",
    "#     pseudos={\"Cs\":\"Cs.pbe-spn-rrkjus_psl.1.0.0.UPF\",       \n",
    "#               \"I\":\"I.pbe-n-rrkjus_psl.0.2.UPF\", \n",
    "#               \"Pb\":\"Pb.pbe-dn-rrkjus_psl.0.2.2.UPF\"}\n",
    "\n",
    "#     io.write(\"cubic_cspbi3_%d.pwi\" %wfc,\n",
    "#               structure, \n",
    "#               input_data=inp_data,\n",
    "#               pseudopotentials=pseudos, \n",
    "#               kpts=(2, 2, 2),\n",
    "#               koffset=(0, 0, 0), \n",
    "#               crystal_coordinates=False)\n",
    "# os.chdir(\"..\")"
   ]
  },
  {
   "cell_type": "code",
   "execution_count": null,
   "id": "71307dee",
   "metadata": {},
   "outputs": [],
   "source": [
    "# final_e = [-378.06226432, -378.13984078, -378.14754140, -378.14812932, -378.14844286, -378.14925605,\n",
    "#            -378.14942638, -378.14955884, -378.14969021, -378.14971276, -378.14974328, -378.14978518] \n",
    "\n",
    "# wfc = [ 20,  30,  40,  45,  50,  60,  70,  80,  90, 100, 110, 120]\n",
    "\n",
    "# fig, (ax) = plt.subplots(figsize=(6,6))\n",
    "\n",
    "# ax.plot(wfc,final_e, color='navy', ls='--', lw=2, markersize=10, marker='h')\n",
    "# ax.set_xlabel('Wavefunction cutoff (Ry)', fontsize = 14)\n",
    "# ax.set_ylabel('Total energy (Ry)', fontsize = 14)\n",
    "# ax.tick_params(labelsize=12)\n",
    "# ax.set_title('Wavefunction cutoff vs Total energy', fontsize=15)"
   ]
  },
  {
   "cell_type": "code",
   "execution_count": null,
   "id": "7575e895",
   "metadata": {},
   "outputs": [],
   "source": []
  },
  {
   "cell_type": "markdown",
   "id": "13c20936",
   "metadata": {},
   "source": [
    "## tetragonal polymorph:  https://dx.doi.org/10.25505/fiz.icsd.cc20vqj4\n",
    "- Experimental data\n",
    "  - Space Group: P 4/m b m (127)\n",
    "  - Cell: a 8.82690(3)Å b 8.82690(3)Å c 6.29902(3)Å, α 90° β 90° γ 90° "
   ]
  },
  {
   "cell_type": "code",
   "execution_count": null,
   "id": "e7535299",
   "metadata": {},
   "outputs": [],
   "source": [
    "structure = io.read('beta.cif')\n",
    "structure = sort(structure)\n",
    "structure = structure.repeat((1,1,2))\n",
    "structure = sort(structure)\n",
    "\n",
    "view(structure)\n",
    "\n",
    "fig, (ax1, ax2, ax3) = plt.subplots(1, 3, figsize=(20,10))\n",
    "\n",
    "plot_atoms(structure, ax1, radii=0.5, rotation=('90x,0y,0z'))\n",
    "#ax1.set_xlim(-20, 30)\n",
    "ax1.set_xlabel(r'x[$\\AA$]')\n",
    "ax1.set_ylabel(r'z[$\\AA$]')\n",
    "\n",
    "plot_atoms(structure, ax2, radii=0.5, rotation=('90x,0y,0z'))\n",
    "#ax2.set_xlim(-20, 30)\n",
    "ax2.set_xlabel(r'x[$\\AA$]')\n",
    "ax2.set_ylabel(r'z[$\\AA$]')\n",
    "\n",
    "plot_atoms(structure, ax3, radii=0.5, rotation=('180x,0y,0z'))\n",
    "#ax3.set_xlim(-20, 30)\n",
    "ax3.set_xlabel(r'x[$\\AA$]')\n",
    "ax3.set_ylabel(r'y[$\\AA$]')\n",
    "\n",
    "#fig.savefig(\"ase_slab.png\")\n",
    "structure"
   ]
  },
  {
   "cell_type": "markdown",
   "id": "8701f499",
   "metadata": {},
   "source": [
    "### prepare vasp/quantum espresso input file"
   ]
  },
  {
   "cell_type": "code",
   "execution_count": null,
   "id": "a300b716",
   "metadata": {},
   "outputs": [],
   "source": [
    "write_vasp('tetragonal.vasp', structure, vasp5=True, direct=True)\n",
    "\n",
    "inp_data={'prefix':\"tetragonal\",\n",
    "          'electron_maxstep':1000,\n",
    "          'outdir':\"./\",    \n",
    "          'pseudo_dir':\"/work/e89/e89/ahlawat/PP/\",\n",
    "          'calculation':'vc-relax',\n",
    "          'vdw_corr':'grimme-d3',\n",
    "          'ecutwfc':70.,\n",
    "          'occupations':'fixed',\n",
    "          'ecutrho':700.,   \n",
    "          'conv_thr':1e-8,\n",
    "          'electron_maxstep':500,\n",
    "          'ion_dynamics':'bfgs',\n",
    "          'cell_dynamics':'bfgs'}\n",
    "\n",
    "pseudos={\"Cs\":\"Cs.pbe-spn-rrkjus_psl.1.0.0.UPF\",       \n",
    "         \"I\":\"I.pbe-n-rrkjus_psl.0.2.UPF\", \n",
    "         \"Pb\":\"Pb.pbe-dn-rrkjus_psl.0.2.2.UPF\"}\n",
    "\n",
    "io.write(\"tetragonal_cspbi3.pwi\", \n",
    "         structure, \n",
    "         input_data=inp_data,\n",
    "         pseudopotentials=pseudos, \n",
    "         kpts=(3, 3, 2),\n",
    "         koffset=(0, 0, 0), \n",
    "         crystal_coordinates=False)"
   ]
  },
  {
   "cell_type": "code",
   "execution_count": null,
   "id": "18b3a7c6",
   "metadata": {},
   "outputs": [],
   "source": []
  },
  {
   "cell_type": "markdown",
   "id": "f9e512fe",
   "metadata": {},
   "source": [
    "## orthorhombic polymorph: http://dx.doi.org/10.1021/acsenergylett.8b00672\n",
    "- Experimental data\n",
    "  - ICSD 264725 \n",
    "  - ICSD Structure : (Cs I3 Pb)n\n",
    "  - Space Group: P n a m (62)\n",
    "  - Cell: a 8.8561(4)Å b 8.5766(3)Å c 12.4722(6)Å, α 90° β 90° γ 90° "
   ]
  },
  {
   "cell_type": "code",
   "execution_count": null,
   "id": "9528c164",
   "metadata": {},
   "outputs": [],
   "source": [
    "structure = io.read('ortho.cif')\n",
    "structure = sort(structure)\n",
    "\n",
    "view(structure)\n",
    "\n",
    "fig, (ax1, ax2, ax3) = plt.subplots(1, 3, figsize=(20,10))\n",
    "\n",
    "plot_atoms(structure, ax1, radii=0.5, rotation=('90x,0y,0z'))\n",
    "#ax1.set_xlim(-20, 30)\n",
    "ax1.set_xlabel(r'x[$\\AA$]')\n",
    "ax1.set_ylabel(r'z[$\\AA$]')\n",
    "\n",
    "plot_atoms(structure, ax2, radii=0.5, rotation=('90x,0y,0z'))\n",
    "#ax2.set_xlim(-20, 30)\n",
    "ax2.set_xlabel(r'x[$\\AA$]')\n",
    "ax2.set_ylabel(r'z[$\\AA$]')\n",
    "\n",
    "plot_atoms(structure, ax3, radii=0.5, rotation=('180x,0y,0z'))\n",
    "#ax3.set_xlim(-20, 30)\n",
    "ax3.set_xlabel(r'x[$\\AA$]')\n",
    "ax3.set_ylabel(r'y[$\\AA$]')\n",
    "\n",
    "#fig.savefig(\"ase_slab.png\")\n",
    "structure"
   ]
  },
  {
   "cell_type": "markdown",
   "id": "fcdc3345",
   "metadata": {},
   "source": [
    "### prepare vasp/quantum espresso input file"
   ]
  },
  {
   "cell_type": "code",
   "execution_count": null,
   "id": "5f5869d4",
   "metadata": {},
   "outputs": [],
   "source": [
    "write_vasp('ortho.vasp', structure, vasp5=True, direct=True)\n",
    "\n",
    "inp_data={'prefix':\"orthorhombic\",\n",
    "          'electron_maxstep':1000,\n",
    "          'outdir':\"./\",    \n",
    "          'pseudo_dir':\"/work/e89/e89/ahlawat/PP/\",\n",
    "          'calculation':'vc-relax',\n",
    "          'vdw_corr':'grimme-d3',\n",
    "          'ecutwfc':70.,\n",
    "          'occupations':'fixed',\n",
    "          'ecutrho':700.,   \n",
    "          'conv_thr':1e-8,\n",
    "          'electron_maxstep':500,\n",
    "          'ion_dynamics':'bfgs',\n",
    "          'cell_dynamics':'bfgs'}\n",
    "\n",
    "pseudos={\"Cs\":\"Cs.pbe-spn-rrkjus_psl.1.0.0.UPF\",       \n",
    "         \"I\":\"I.pbe-n-rrkjus_psl.0.2.UPF\", \n",
    "         \"Pb\":\"Pb.pbe-dn-rrkjus_psl.0.2.2.UPF\"}\n",
    "\n",
    "io.write(\"ortho_cspbi3.pwi\", \n",
    "         structure, \n",
    "         input_data=inp_data,\n",
    "         pseudopotentials=pseudos, \n",
    "         kpts=(3, 3, 2),\n",
    "         koffset=(0, 0, 0), \n",
    "         crystal_coordinates=False)\n",
    "\n",
    "\n"
   ]
  },
  {
   "cell_type": "markdown",
   "id": "80633769",
   "metadata": {},
   "source": [
    "## hexagonal polymorph: https://dx.doi.org/10.5517/cc11hdmk\n",
    "- Experimental data\n",
    "  - Crystal details\n",
    "  - Space group \tP n m a (62)\n",
    "  - Unit cell \ta 10.4342(7)Å b 4.7905(3)Å c 17.7610(10)Å\n",
    "  - α 90.00° β 90.00° γ 90.00°\n",
    "  - Cell volume \t887.78\n",
    "  - Reduced cell \ta 4.791Å b 10.434Å c 17.761Å\n",
    "  - α 90.000° β 90.000° γ 90.000°\n",
    "  - Polymorph \tdelta polymorph\n",
    "  - Colour \tyellow\n"
   ]
  },
  {
   "cell_type": "code",
   "execution_count": null,
   "id": "e3690c28",
   "metadata": {},
   "outputs": [],
   "source": [
    "structure = io.read('delta.cif')\n",
    "structure = sort(structure)\n",
    "\n",
    "view(structure)\n",
    "\n",
    "fig, (ax1, ax2, ax3) = plt.subplots(1, 3, figsize=(20,10))\n",
    "\n",
    "plot_atoms(structure, ax1, radii=0.5, rotation=('90x,0y,0z'))\n",
    "#ax1.set_xlim(-20, 30)\n",
    "ax1.set_xlabel(r'x[$\\AA$]')\n",
    "ax1.set_ylabel(r'z[$\\AA$]')\n",
    "\n",
    "plot_atoms(structure, ax2, radii=0.5, rotation=('90x,0y,0z'))\n",
    "#ax2.set_xlim(-20, 30)\n",
    "ax2.set_xlabel(r'x[$\\AA$]')\n",
    "ax2.set_ylabel(r'z[$\\AA$]')\n",
    "\n",
    "plot_atoms(structure, ax3, radii=0.5, rotation=('180x,0y,0z'))\n",
    "#ax3.set_xlim(-20, 30)\n",
    "ax3.set_xlabel(r'x[$\\AA$]')\n",
    "ax3.set_ylabel(r'y[$\\AA$]')\n",
    "\n",
    "structure\n",
    "#fig.savefig(\"ase_slab.png\")"
   ]
  },
  {
   "cell_type": "markdown",
   "id": "193011e0",
   "metadata": {},
   "source": [
    "### prepare vasp/quantum espresso input file"
   ]
  },
  {
   "cell_type": "code",
   "execution_count": null,
   "id": "9450ce45",
   "metadata": {},
   "outputs": [],
   "source": [
    "write_vasp('delta.vasp', structure, vasp5=True, direct=True)\n",
    "\n",
    "inp_data={'prefix':\"hexagonal\",\n",
    "          'electron_maxstep':1000,\n",
    "          'outdir':\"./\",    \n",
    "          'pseudo_dir':\"/work/e89/e89/ahlawat/PP/\",\n",
    "          'calculation':'vc-relax',\n",
    "          'vdw_corr':'grimme-d3',\n",
    "          'ecutwfc':70.,\n",
    "          'occupations':'fixed',\n",
    "          'ecutrho':700.,   \n",
    "          'conv_thr':1e-8,\n",
    "          'electron_maxstep':500,\n",
    "          'ion_dynamics':'bfgs',\n",
    "          'cell_dynamics':'bfgs'}\n",
    "\n",
    "pseudos={\"Cs\":\"Cs.pbe-spn-rrkjus_psl.1.0.0.UPF\",       \n",
    "         \"I\":\"I.pbe-n-rrkjus_psl.0.2.UPF\", \n",
    "         \"Pb\":\"Pb.pbe-dn-rrkjus_psl.0.2.2.UPF\"}\n",
    "\n",
    "io.write(\"hexagonal_cspbi3.pwi\", \n",
    "         structure, \n",
    "         input_data=inp_data,\n",
    "         pseudopotentials=pseudos, \n",
    "         kpts=(2, 6, 1),\n",
    "         koffset=(0, 0, 0), \n",
    "         crystal_coordinates=False)\n",
    "\n"
   ]
  },
  {
   "cell_type": "markdown",
   "id": "11c14db2",
   "metadata": {},
   "source": [
    "# relative energies of different polymorphs of 20 atoms cells"
   ]
  },
  {
   "cell_type": "code",
   "execution_count": null,
   "id": "638d8972",
   "metadata": {},
   "outputs": [],
   "source": [
    "# # Cubic , tetragona, orthorhombic, hexagonal\n",
    "\n",
    "# #Energies from DFT:\n",
    "# PBE_D3 = [-1512.59911762, -1512.61689881, -1512.62056567, -1512.64799559] # in Ry\n",
    "# PBE    = [-1512.25523334, -1512.28699951, -1512.29903323, -1512.31788605] # in Ry\n",
    "# optB   = [-14.01453121, -14.59628122, -14.869, -15.48199443]              # in eV\n",
    "# r2scan = [-643.62615739, -644.037, -644.19462648, -644.51920211]          # in eV\n",
    "\n",
    "# #Energies converted to eV/f.u.:\n",
    "# ar = np.array(opt)\n",
    "# n = (ar + 14.01453121)*1000/4\n"
   ]
  },
  {
   "cell_type": "markdown",
   "id": "cb02b7c0",
   "metadata": {},
   "source": []
  },
  {
   "cell_type": "code",
   "execution_count": null,
   "id": "9f1f1967",
   "metadata": {},
   "outputs": [],
   "source": []
  },
  {
   "cell_type": "markdown",
   "id": "d99be0e2",
   "metadata": {},
   "source": [
    "# force fields simulations:\n",
    "  - force fields are taken from : Bischak, Connor G., et al. \"Liquid-like interfaces mediate structural phase transitions in lead halide perovskites.\" Matter 3.2 (2020): 534-545."
   ]
  },
  {
   "cell_type": "markdown",
   "id": "5f623484",
   "metadata": {},
   "source": [
    "# cubic-phase"
   ]
  },
  {
   "cell_type": "code",
   "execution_count": 2,
   "id": "1d386271",
   "metadata": {},
   "outputs": [
    {
     "name": "stderr",
     "output_type": "stream",
     "text": [
      "/home/ahlawat/.local/lib/python3.9/site-packages/ase/io/cif.py:401: UserWarning: crystal system 'cubic' is not interpreted for space group Spacegroup(221, setting=1). This may result in wrong setting!\n",
      "  warnings.warn(\n"
     ]
    },
    {
     "name": "stdout",
     "output_type": "stream",
     "text": [
      "Atoms(symbols='Cs4I12Pb4', pbc=True, cell=[12.5788, 6.2894, 12.5788], initial_charges=..., spacegroup_kinds=...)\n",
      "LAMMPS (23 Jun 2022)\n",
      "Reading data file ...\n",
      "  triclinic box = (0 0 0) to (12.5788 6.2894 12.5788) with tilt (0 0 0)\n",
      "  1 by 1 by 1 MPI processor grid\n",
      "  reading atoms ...\n",
      "  20 atoms\n",
      "Finding 1-2 1-3 1-4 neighbors ...\n",
      "  special bond factors lj:    0        0        0       \n",
      "  special bond factors coul:  0        0        0       \n",
      "     0 = max # of 1-2 neighbors\n",
      "     0 = max # of 1-3 neighbors\n",
      "     0 = max # of 1-4 neighbors\n",
      "     1 = max # of special neighbors\n",
      "  special bonds CPU = 0.001 seconds\n",
      "  read_data CPU = 0.003 seconds\n",
      "WARNING: Using 'neigh_modify every 1 delay 0 check yes' setting during minimization (../min.cpp:187)\n",
      "PPPM initialization ...\n",
      "  using 12-bit tables for long-range coulomb (../kspace.cpp:342)\n",
      "  G vector (1/distance) = 0.27767082\n",
      "  grid = 8 4 8\n",
      "  stencil order = 5\n",
      "  estimated absolute RMS force accuracy = 0.00039700966\n",
      "  estimated relative force accuracy = 2.7570795e-05\n",
      "  using double precision KISS FFT\n",
      "  3d grid and FFT values/proc = 2475 256\n",
      "Generated 3 of 3 mixed pair_coeff terms from arithmetic mixing rule\n",
      "Neighbor list info ...\n",
      "  update every 1 steps, delay 0 steps, check yes\n",
      "  max neighbors/atom: 2000, page size: 100000\n",
      "  master list distance cutoff = 12\n",
      "  ghost atom cutoff = 12\n",
      "  binsize = 6, bins = 3 2 3\n",
      "  1 neighbor lists, perpetual/occasional/extra = 1 0 0\n",
      "  (1) pair lj/cut/coul/long, perpetual\n",
      "      attributes: half, newton on\n",
      "      pair build: half/bin/newton/tri\n",
      "      stencil: half/bin/3d/tri\n",
      "      bin: standard\n",
      "Setting up cg style minimization ...\n",
      "  Unit style    : metal\n",
      "  Current step  : 0\n",
      "WARNING: Energy due to 3 extra global DOFs will be included in minimizer energies\n",
      "Per MPI rank memory allocation (min/avg/max) = 7.675 | 7.675 | 7.675 Mbytes\n",
      "   Step          Temp          PotEng         KinEng         TotEng         Press            Lx             Ly             Lz             Xy             Xz             Yz      \n",
      "         0   0             -38.669255      0             -38.669255     -3832.8716      12.5788        6.2894         12.5788        0              0              0            \n",
      "         2   0             -38.698463      0             -38.698463     -7.6274308      12.47869       6.239345       12.47869       0              0              0            \n",
      "Loop time of 0.001247 on 1 procs for 2 steps with 20 atoms\n",
      "\n",
      "33.4% CPU use with 1 MPI tasks x no OpenMP threads\n",
      "\n",
      "Minimization stats:\n",
      "  Stopping criterion = energy tolerance\n",
      "  Energy initial, next-to-last, final = \n",
      "     -38.6692553726837   -38.698446338583  -38.6984625454506\n",
      "  Force two-norm initial, final = 4.1234638 0.0080756178\n",
      "  Force max component initial, final = 2.3806829 0.0046624601\n",
      "  Final line search alpha, max atom move = 0.19566308 0.00091227131\n",
      "  Iterations, force evaluations = 2 4\n",
      "\n",
      "MPI task timing breakdown:\n",
      "Section |  min time  |  avg time  |  max time  |%varavg| %total\n",
      "---------------------------------------------------------------\n",
      "Pair    | 0.00028339 | 0.00028339 | 0.00028339 |   0.0 | 22.73\n",
      "Bond    | 7.42e-07   | 7.42e-07   | 7.42e-07   |   0.0 |  0.06\n",
      "Kspace  | 0.00040797 | 0.00040797 | 0.00040797 |   0.0 | 32.72\n",
      "Neigh   | 0          | 0          | 0          |   0.0 |  0.00\n",
      "Comm    | 2.0749e-05 | 2.0749e-05 | 2.0749e-05 |   0.0 |  1.66\n",
      "Output  | 0          | 0          | 0          |   0.0 |  0.00\n",
      "Modify  | 0          | 0          | 0          |   0.0 |  0.00\n",
      "Other   |            | 0.0005342  |            |       | 42.84\n",
      "\n",
      "Nlocal:             20 ave          20 max          20 min\n",
      "Histogram: 1 0 0 0 0 0 0 0 0 0\n",
      "Nghost:            625 ave         625 max         625 min\n",
      "Histogram: 1 0 0 0 0 0 0 0 0 0\n",
      "Neighs:           1588 ave        1588 max        1588 min\n",
      "Histogram: 1 0 0 0 0 0 0 0 0 0\n",
      "\n",
      "Total # of neighbors = 1588\n",
      "Ave neighs/atom = 79.4\n",
      "Ave special neighs/atom = 0\n",
      "Neighbor list builds = 0\n",
      "Dangerous builds = 0\n",
      "System init for write_data ...\n",
      "PPPM initialization ...\n",
      "  using 12-bit tables for long-range coulomb (../kspace.cpp:342)\n",
      "  G vector (1/distance) = 0.28699892\n",
      "  grid = 8 5 8\n",
      "  stencil order = 5\n",
      "  estimated absolute RMS force accuracy = 0.0002382982\n",
      "  estimated relative force accuracy = 1.6548894e-05\n",
      "  using double precision KISS FFT\n",
      "  3d grid and FFT values/proc = 2700 320\n",
      "Generated 3 of 3 mixed pair_coeff terms from arithmetic mixing rule\n",
      "Total wall time: 0:00:00\n"
     ]
    },
    {
     "data": {
      "text/plain": [
       "CompletedProcess(args='lmp_mpi < start.lmp ', returncode=0)"
      ]
     },
     "execution_count": 2,
     "metadata": {},
     "output_type": "execute_result"
    }
   ],
   "source": [
    "unit_cell = io.read('cubic.cif')\n",
    "rep1 = 2\n",
    "rep2 = 1\n",
    "rep3 = 2\n",
    "\n",
    "supercell = unit_cell.repeat((rep1,rep2,rep3))\n",
    "supercell = sort(supercell)\n",
    "\n",
    "# set point charges\n",
    "i = 0\n",
    "num_atoms = len(supercell.get_chemical_symbols())\n",
    "charge_array = [0]*num_atoms\n",
    "while i < num_atoms:\n",
    "    if(supercell.get_chemical_symbols()[i] == 'Cs'):\n",
    "        charge_array[i]= 0.86\n",
    "    if(supercell.get_chemical_symbols()[i] == 'I'):\n",
    "        charge_array[i]= -0.57\n",
    "    if(supercell.get_chemical_symbols()[i] == 'Pb'):\n",
    "        charge_array[i]= 0.85\n",
    "    i = i + 1\n",
    "\n",
    "supercell.set_initial_charges(charges=charge_array)\n",
    "view(supercell)\n",
    "print(supercell) \n",
    "\n",
    "\n",
    "write_lammps_data('data.CPI', supercell, atom_style = 'full', force_skew=True, units='real')\n",
    "\n",
    "with open(\"start.lmp\",\"w\") as f:\n",
    "    print(\"\"\"\n",
    "###\n",
    "dimension       3\n",
    "boundary        p p p\n",
    "units           metal\n",
    "atom_style      full\n",
    "variable        seed world 1428\n",
    "variable        freq equal 500\n",
    "read_data       data.CPI\n",
    "mass            1 132.904999 # Cs\n",
    "mass            2 126.900002 # I\n",
    "mass            3 204.199997 # Pb\n",
    "pair_style      lj/cut/coul/long 8.0 10.0\n",
    "pair_modify     mix arithmetic\n",
    "neigh_modify    every 1\n",
    "kspace_style    pppm 1e-4\n",
    "dielectric 1.0\n",
    "variable ACs  equal \"0.07728\"\n",
    "variable rCs  equal \"3.584\"\n",
    "variable APb  equal \"0.001086\"\n",
    "variable rPb  equal \"3.210\"\n",
    "variable AI   equal \"0.06389\"\n",
    "variable rI   equal \"4.014\"\n",
    "pair_coeff      1 1 ${ACs}    ${rCs}\n",
    "pair_coeff      2 2 ${AI}     ${rI}\n",
    "pair_coeff      3 3 ${APb}    ${rPb}\n",
    "thermo          ${freq}\n",
    "thermo_style    custom step temp pe ke etotal press lx ly lz xy xz yz\n",
    "# Minimization\n",
    "\n",
    "min_style cg\n",
    "fix 1 all box/relax aniso 0.0 vmax 0.01\n",
    "minimize        1.0e-4 1.0e-6 1000 10000\n",
    "unfix 1\n",
    "write_data      data.min\n",
    "\"\"\",file=f)\n",
    "\n",
    "subprocess.run(\"lmp_mpi < start.lmp \",shell=True)"
   ]
  },
  {
   "cell_type": "markdown",
   "id": "5a3cb130",
   "metadata": {},
   "source": [
    "# tetragonal-phase"
   ]
  },
  {
   "cell_type": "code",
   "execution_count": 3,
   "id": "c8ce2089",
   "metadata": {},
   "outputs": [
    {
     "name": "stderr",
     "output_type": "stream",
     "text": [
      "/home/ahlawat/.local/lib/python3.9/site-packages/ase/io/cif.py:401: UserWarning: crystal system 'tetragonal' is not interpreted for space group Spacegroup(127, setting=1). This may result in wrong setting!\n",
      "  warnings.warn(\n"
     ]
    },
    {
     "name": "stdout",
     "output_type": "stream",
     "text": [
      "Atoms(symbols='Cs4I12Pb4', pbc=True, cell=[8.8269, 8.8269, 12.59804], initial_charges=..., spacegroup_kinds=...)\n",
      "LAMMPS (23 Jun 2022)\n",
      "Reading data file ...\n",
      "  triclinic box = (0 0 0) to (8.8269 8.8269 12.59804) with tilt (0 0 0)\n",
      "  1 by 1 by 1 MPI processor grid\n",
      "  reading atoms ...\n",
      "  20 atoms\n",
      "Finding 1-2 1-3 1-4 neighbors ...\n",
      "  special bond factors lj:    0        0        0       \n",
      "  special bond factors coul:  0        0        0       \n",
      "     0 = max # of 1-2 neighbors\n",
      "     0 = max # of 1-3 neighbors\n",
      "     0 = max # of 1-4 neighbors\n",
      "     1 = max # of special neighbors\n",
      "  special bonds CPU = 0.001 seconds\n",
      "  read_data CPU = 0.003 seconds\n",
      "WARNING: Using 'neigh_modify every 1 delay 0 check yes' setting during minimization (../min.cpp:187)\n",
      "PPPM initialization ...\n",
      "  using 12-bit tables for long-range coulomb (../kspace.cpp:342)\n",
      "  G vector (1/distance) = 0.28388955\n",
      "  grid = 6 6 8\n",
      "  stencil order = 5\n",
      "  estimated absolute RMS force accuracy = 0.00027746631\n",
      "  estimated relative force accuracy = 1.9268969e-05\n",
      "  using double precision KISS FFT\n",
      "  3d grid and FFT values/proc = 2535 288\n",
      "Generated 3 of 3 mixed pair_coeff terms from arithmetic mixing rule\n",
      "Neighbor list info ...\n",
      "  update every 1 steps, delay 0 steps, check yes\n",
      "  max neighbors/atom: 2000, page size: 100000\n",
      "  master list distance cutoff = 12\n",
      "  ghost atom cutoff = 12\n",
      "  binsize = 6, bins = 2 2 3\n",
      "  1 neighbor lists, perpetual/occasional/extra = 1 0 0\n",
      "  (1) pair lj/cut/coul/long, perpetual\n",
      "      attributes: half, newton on\n",
      "      pair build: half/bin/newton/tri\n",
      "      stencil: half/bin/3d/tri\n",
      "      bin: standard\n",
      "Setting up cg style minimization ...\n",
      "  Unit style    : metal\n",
      "  Current step  : 0\n",
      "WARNING: Energy due to 3 extra global DOFs will be included in minimizer energies\n",
      "Per MPI rank memory allocation (min/avg/max) = 7.697 | 7.697 | 7.697 Mbytes\n",
      "   Step          Temp          PotEng         KinEng         TotEng         Press            Lx             Ly             Lz             Xy             Xz             Yz      \n",
      "         0   0             -38.749716      0             -38.749716     -2069.3593      8.8269         8.8269         12.59804       0              0              0            \n",
      "         2   0             -38.890476      0             -38.890476     -70.203567      8.7558642      8.7558642      12.613494      0              0              0            \n",
      "Loop time of 0.00132723 on 1 procs for 2 steps with 20 atoms\n",
      "\n",
      "18.2% CPU use with 1 MPI tasks x no OpenMP threads\n",
      "\n",
      "Minimization stats:\n",
      "  Stopping criterion = energy tolerance\n",
      "  Energy initial, next-to-last, final = \n",
      "     -38.7497159003974  -38.8895406987105  -38.8904755699547\n",
      "  Force two-norm initial, final = 2.4644984 0.24221429\n",
      "  Force max component initial, final = 1.7172382 0.11379797\n",
      "  Final line search alpha, max atom move = 0.021389369 0.0024340669\n",
      "  Iterations, force evaluations = 2 4\n",
      "\n",
      "MPI task timing breakdown:\n",
      "Section |  min time  |  avg time  |  max time  |%varavg| %total\n",
      "---------------------------------------------------------------\n",
      "Pair    | 0.00022413 | 0.00022413 | 0.00022413 |   0.0 | 16.89\n",
      "Bond    | 8e-07      | 8e-07      | 8e-07      |   0.0 |  0.06\n",
      "Kspace  | 0.00047384 | 0.00047384 | 0.00047384 |   0.0 | 35.70\n",
      "Neigh   | 0          | 0          | 0          |   0.0 |  0.00\n",
      "Comm    | 2.52e-05   | 2.52e-05   | 2.52e-05   |   0.0 |  1.90\n",
      "Output  | 0          | 0          | 0          |   0.0 |  0.00\n",
      "Modify  | 0          | 0          | 0          |   0.0 |  0.00\n",
      "Other   |            | 0.0006033  |            |       | 45.45\n",
      "\n",
      "Nlocal:             20 ave          20 max          20 min\n",
      "Histogram: 1 0 0 0 0 0 0 0 0 0\n",
      "Nghost:            719 ave         719 max         719 min\n",
      "Histogram: 1 0 0 0 0 0 0 0 0 0\n",
      "Neighs:           1492 ave        1492 max        1492 min\n",
      "Histogram: 1 0 0 0 0 0 0 0 0 0\n",
      "\n",
      "Total # of neighbors = 1492\n",
      "Ave neighs/atom = 74.6\n",
      "Ave special neighs/atom = 0\n",
      "Neighbor list builds = 0\n",
      "Dangerous builds = 0\n",
      "System init for write_data ...\n",
      "PPPM initialization ...\n",
      "  using 12-bit tables for long-range coulomb (../kspace.cpp:342)\n",
      "  G vector (1/distance) = 0.2842681\n",
      "  grid = 6 6 8\n",
      "  stencil order = 5\n",
      "  estimated absolute RMS force accuracy = 0.00027328209\n",
      "  estimated relative force accuracy = 1.897839e-05\n",
      "  using double precision KISS FFT\n",
      "  3d grid and FFT values/proc = 2535 288\n",
      "Generated 3 of 3 mixed pair_coeff terms from arithmetic mixing rule\n",
      "ERROR on proc 0: Substitution for illegal variable temperature (../input.cpp:622)\n",
      "Last command: fix             1 all temp/csvr ${temperature} ${temperature} ${tempDamp} ${seed}\n"
     ]
    },
    {
     "name": "stderr",
     "output_type": "stream",
     "text": [
      "Abort(1) on node 0 (rank 0 in comm 0): application called MPI_Abort(MPI_COMM_WORLD, 1) - process 0\n"
     ]
    },
    {
     "data": {
      "text/plain": [
       "CompletedProcess(args='lmp_mpi < start.lmp ', returncode=1)"
      ]
     },
     "execution_count": 3,
     "metadata": {},
     "output_type": "execute_result"
    }
   ],
   "source": [
    "unit_cell = io.read('beta.cif')\n",
    "rep1 = 1\n",
    "rep2 = 1\n",
    "rep3 = 2\n",
    "\n",
    "supercell = unit_cell.repeat((rep1,rep2,rep3))\n",
    "supercell = sort(supercell)\n",
    "\n",
    "# set point charges\n",
    "i = 0\n",
    "num_atoms = len(supercell.get_chemical_symbols())\n",
    "charge_array = [0]*num_atoms\n",
    "while i < num_atoms:\n",
    "    if(supercell.get_chemical_symbols()[i] == 'Cs'):\n",
    "        charge_array[i]= 0.86\n",
    "    if(supercell.get_chemical_symbols()[i] == 'I'):\n",
    "        charge_array[i]= -0.57\n",
    "    if(supercell.get_chemical_symbols()[i] == 'Pb'):\n",
    "        charge_array[i]= 0.85\n",
    "    i = i + 1\n",
    "\n",
    "supercell.set_initial_charges(charges=charge_array)\n",
    "#view(supercell)\n",
    "print(supercell) \n",
    "\n",
    "\n",
    "write_lammps_data('data.CPI', supercell, atom_style = 'full', force_skew=True, units='real')\n",
    "\n",
    "with open(\"start.lmp\",\"w\") as f:\n",
    "    print(\"\"\"\n",
    "###\n",
    "dimension       3\n",
    "boundary        p p p\n",
    "units           metal\n",
    "atom_style      full\n",
    "variable        seed world 1428\n",
    "variable        freq equal 500\n",
    "read_data       data.CPI\n",
    "mass            1 132.904999 # Cs\n",
    "mass            2 126.900002 # I\n",
    "mass            3 204.199997 # Pb\n",
    "pair_style      lj/cut/coul/long 8.0 10.0\n",
    "pair_modify     mix arithmetic\n",
    "neigh_modify    every 1\n",
    "kspace_style    pppm 1e-4\n",
    "dielectric 1.0\n",
    "variable ACs  equal \"0.07728\"\n",
    "variable rCs  equal \"3.584\"\n",
    "variable APb  equal \"0.001086\"\n",
    "variable rPb  equal \"3.210\"\n",
    "variable AI   equal \"0.06389\"\n",
    "variable rI   equal \"4.014\"\n",
    "pair_coeff      1 1 ${ACs}    ${rCs}\n",
    "pair_coeff      2 2 ${AI}     ${rI}\n",
    "pair_coeff      3 3 ${APb}    ${rPb}\n",
    "thermo          ${freq}\n",
    "thermo_style    custom step temp pe ke etotal press lx ly lz xy xz yz\n",
    "# Minimization\n",
    "\n",
    "min_style cg\n",
    "fix 1 all box/relax aniso 0.0 vmax 0.01\n",
    "minimize        1.0e-4 1.0e-6 1000 10000\n",
    "unfix 1\n",
    "write_data      data.min\n",
    "\"\"\",file=f)\n",
    "\n",
    "subprocess.run(\"lmp_mpi < start.lmp \",shell=True)"
   ]
  },
  {
   "cell_type": "markdown",
   "id": "0e39a7ff",
   "metadata": {},
   "source": [
    "# orthorhombic-phase"
   ]
  },
  {
   "cell_type": "code",
   "execution_count": 6,
   "id": "e473e4f0",
   "metadata": {},
   "outputs": [
    {
     "name": "stdout",
     "output_type": "stream",
     "text": [
      "LAMMPS (23 Jun 2022)\n",
      "Reading data file ...\n",
      "  triclinic box = (0 0 0) to (8.856 8.576 12.472) with tilt (0 0 0)\n",
      "  1 by 1 by 1 MPI processor grid\n",
      "  reading atoms ...\n",
      "  20 atoms\n",
      "Finding 1-2 1-3 1-4 neighbors ...\n",
      "  special bond factors lj:    0        0        0       \n",
      "  special bond factors coul:  0        0        0       \n",
      "     0 = max # of 1-2 neighbors\n",
      "     0 = max # of 1-3 neighbors\n",
      "     0 = max # of 1-4 neighbors\n",
      "     1 = max # of special neighbors\n",
      "  special bonds CPU = 0.001 seconds\n",
      "  read_data CPU = 0.003 seconds\n",
      "WARNING: Using 'neigh_modify every 1 delay 0 check yes' setting during minimization (../min.cpp:187)\n",
      "PPPM initialization ...\n",
      "  using 12-bit tables for long-range coulomb (../kspace.cpp:342)\n",
      "  G vector (1/distance) = 0.28471587\n",
      "  grid = 6 6 8\n",
      "  stencil order = 5\n",
      "  estimated absolute RMS force accuracy = 0.00026881823\n",
      "  estimated relative force accuracy = 1.8668393e-05\n",
      "  using double precision KISS FFT\n",
      "  3d grid and FFT values/proc = 2535 288\n",
      "Generated 3 of 3 mixed pair_coeff terms from arithmetic mixing rule\n",
      "Neighbor list info ...\n",
      "  update every 1 steps, delay 0 steps, check yes\n",
      "  max neighbors/atom: 2000, page size: 100000\n",
      "  master list distance cutoff = 12\n",
      "  ghost atom cutoff = 12\n",
      "  binsize = 6, bins = 2 2 3\n",
      "  1 neighbor lists, perpetual/occasional/extra = 1 0 0\n",
      "  (1) pair lj/cut/coul/long, perpetual\n",
      "      attributes: half, newton on\n",
      "      pair build: half/bin/newton/tri\n",
      "      stencil: half/bin/3d/tri\n",
      "      bin: standard\n",
      "Setting up cg style minimization ...\n",
      "  Unit style    : metal\n",
      "  Current step  : 0\n",
      "WARNING: Energy due to 3 extra global DOFs will be included in minimizer energies\n",
      "Per MPI rank memory allocation (min/avg/max) = 7.69 | 7.69 | 7.69 Mbytes\n",
      "   Step          Temp          PotEng         KinEng         TotEng         Press            Lx             Ly             Lz             Xy             Xz             Yz      \n",
      "         0   0             -38.631134      0             -38.631134      6765.6742      8.856          8.576          12.472         0              0              0            \n",
      "         3   0             -38.726469      0             -38.726469      2594.723       8.856464       8.68856        12.537631      0              0              0            \n",
      "Loop time of 0.00286468 on 1 procs for 3 steps with 20 atoms\n",
      "\n",
      "100.0% CPU use with 1 MPI tasks x no OpenMP threads\n",
      "\n",
      "Minimization stats:\n",
      "  Stopping criterion = energy tolerance\n",
      "  Energy initial, next-to-last, final = \n",
      "     -38.6311339502857  -38.7232144347615  -38.7264688183159\n",
      "  Force two-norm initial, final = 8.9426502 4.6616169\n",
      "  Force max component initial, final = 8.1397028 4.2360745\n",
      "  Final line search alpha, max atom move = 0.00014223948 0.00060253705\n",
      "  Iterations, force evaluations = 3 9\n",
      "\n",
      "MPI task timing breakdown:\n",
      "Section |  min time  |  avg time  |  max time  |%varavg| %total\n",
      "---------------------------------------------------------------\n",
      "Pair    | 0.00051464 | 0.00051464 | 0.00051464 |   0.0 | 17.96\n",
      "Bond    | 1.364e-06  | 1.364e-06  | 1.364e-06  |   0.0 |  0.05\n",
      "Kspace  | 0.00096618 | 0.00096618 | 0.00096618 |   0.0 | 33.73\n",
      "Neigh   | 0          | 0          | 0          |   0.0 |  0.00\n",
      "Comm    | 5.0235e-05 | 5.0235e-05 | 5.0235e-05 |   0.0 |  1.75\n",
      "Output  | 0          | 0          | 0          |   0.0 |  0.00\n",
      "Modify  | 0          | 0          | 0          |   0.0 |  0.00\n",
      "Other   |            | 0.001332   |            |       | 46.51\n",
      "\n",
      "Nlocal:             20 ave          20 max          20 min\n",
      "Histogram: 1 0 0 0 0 0 0 0 0 0\n",
      "Nghost:            714 ave         714 max         714 min\n",
      "Histogram: 1 0 0 0 0 0 0 0 0 0\n",
      "Neighs:           1484 ave        1484 max        1484 min\n",
      "Histogram: 1 0 0 0 0 0 0 0 0 0\n",
      "\n",
      "Total # of neighbors = 1484\n",
      "Ave neighs/atom = 74.2\n",
      "Ave special neighs/atom = 0\n",
      "Neighbor list builds = 0\n",
      "Dangerous builds = 0\n",
      "System init for write_data ...\n",
      "PPPM initialization ...\n",
      "  using 12-bit tables for long-range coulomb (../kspace.cpp:342)\n",
      "  G vector (1/distance) = 0.27506255\n",
      "  grid = 5 6 8\n",
      "  stencil order = 5\n",
      "  estimated absolute RMS force accuracy = 0.00046703179\n",
      "  estimated relative force accuracy = 3.2433563e-05\n",
      "  using double precision KISS FFT\n",
      "  3d grid and FFT values/proc = 2340 240\n",
      "Generated 3 of 3 mixed pair_coeff terms from arithmetic mixing rule\n",
      "Total wall time: 0:00:00\n"
     ]
    },
    {
     "data": {
      "text/plain": [
       "CompletedProcess(args='lmp_mpi < start.lmp ', returncode=0)"
      ]
     },
     "execution_count": 6,
     "metadata": {},
     "output_type": "execute_result"
    }
   ],
   "source": [
    "unit_cell = io.read('ortho.cif')\n",
    "rep1 = 1\n",
    "rep2 = 1\n",
    "rep3 = 1\n",
    "\n",
    "supercell = unit_cell.repeat((rep1,rep2,rep3))\n",
    "supercell = sort(supercell)\n",
    "\n",
    "# set point charges\n",
    "i = 0\n",
    "num_atoms = len(supercell.get_chemical_symbols())\n",
    "charge_array = [0]*num_atoms\n",
    "while i < num_atoms:\n",
    "    if(supercell.get_chemical_symbols()[i] == 'Cs'):\n",
    "        charge_array[i]= 0.86\n",
    "    if(supercell.get_chemical_symbols()[i] == 'I'):\n",
    "        charge_array[i]= -0.57\n",
    "    if(supercell.get_chemical_symbols()[i] == 'Pb'):\n",
    "        charge_array[i]= 0.85\n",
    "    i = i + 1\n",
    "\n",
    "supercell.set_initial_charges(charges=charge_array)\n",
    "#view(supercell)\n",
    "#print(supercell) \n",
    "\n",
    "\n",
    "write_lammps_data('data.CPI', supercell, atom_style = 'full', force_skew=True, units='real')\n",
    "\n",
    "with open(\"start.lmp\",\"w\") as f:\n",
    "    print(\"\"\"\n",
    "###\n",
    "dimension       3\n",
    "boundary        p p p\n",
    "units           metal\n",
    "atom_style      full\n",
    "variable        seed world 1428\n",
    "variable        freq equal 500\n",
    "read_data       data.CPI\n",
    "mass            1 132.904999 # Cs\n",
    "mass            2 126.900002 # I\n",
    "mass            3 204.199997 # Pb\n",
    "pair_style      lj/cut/coul/long 8.0 10.0\n",
    "pair_modify     mix arithmetic\n",
    "neigh_modify    every 1\n",
    "kspace_style    pppm 1e-4\n",
    "dielectric 1.0\n",
    "variable ACs  equal \"0.07728\"\n",
    "variable rCs  equal \"3.584\"\n",
    "variable APb  equal \"0.001086\"\n",
    "variable rPb  equal \"3.210\"\n",
    "variable AI   equal \"0.06389\"\n",
    "variable rI   equal \"4.014\"\n",
    "pair_coeff      1 1 ${ACs}    ${rCs}\n",
    "pair_coeff      2 2 ${AI}     ${rI}\n",
    "pair_coeff      3 3 ${APb}    ${rPb}\n",
    "thermo          ${freq}\n",
    "thermo_style    custom step temp pe ke etotal press lx ly lz xy xz yz\n",
    "# Minimization\n",
    "\n",
    "min_style cg\n",
    "fix 1 all box/relax aniso 0.0 vmax 0.01\n",
    "minimize        1.0e-4 1.0e-6 1000 10000\n",
    "unfix 1\n",
    "write_data      data.min\n",
    "\"\"\",file=f)\n",
    "    \n",
    "# ## run MD\n",
    "# variable        temperature equal 300.0\n",
    "# variable        temperature2 equal 300.0\n",
    "# variable        tempDamp equal 100.0 # approx 0.1 ps\n",
    "# variable        pressure equal 1.00\n",
    "# variable        pressureDamp equal 500.0\n",
    "# # NVT\n",
    "# dump            myDump all dcd 500 out.0.dcd\n",
    "# fix             1 all temp/csvr ${temperature} ${temperature} ${tempDamp} ${seed}\n",
    "# fix             2 all nve\n",
    "# timestep        0.002\n",
    "# velocity        all create ${temperature} ${seed} dist gaussian\n",
    "# run             10000\n",
    "# unfix           1\n",
    "# unfix           2\n",
    "# write_data      data.NVT\n",
    "# # NPT\n",
    "# fix             1 all temp/csvr ${temperature} ${temperature2} ${tempDamp} ${seed}\n",
    "# fix             2 all nph tri ${pressure} ${pressure} ${pressureDamp}\n",
    "# fix             3 all momentum 10000 linear 1 1 1\n",
    "# run             10000\n",
    "# unfix           1\n",
    "# unfix           2\n",
    "# unfix           3\n",
    "# undump          myDump\n",
    "# reset_timestep  0\n",
    "# write_restart   restart.file\n",
    "# write_data      data.eq\n",
    "\n",
    "subprocess.run(\"lmp_mpi < start.lmp \",shell=True)"
   ]
  },
  {
   "cell_type": "code",
   "execution_count": null,
   "id": "6640e7f0",
   "metadata": {},
   "outputs": [],
   "source": [
    "traj = read('out.1.lammpstrj', index=\":\", parallel=True)\n",
    "view(traj)"
   ]
  },
  {
   "cell_type": "markdown",
   "id": "781fa78d",
   "metadata": {},
   "source": [
    "# hexagonal-phase"
   ]
  },
  {
   "cell_type": "code",
   "execution_count": 5,
   "id": "43d61579",
   "metadata": {},
   "outputs": [
    {
     "name": "stdout",
     "output_type": "stream",
     "text": [
      "LAMMPS (23 Jun 2022)\n",
      "Reading data file ...\n",
      "  triclinic box = (0 0 0) to (10.4342 4.7905 17.761) with tilt (0 0 0)\n",
      "  1 by 1 by 1 MPI processor grid\n",
      "  reading atoms ...\n",
      "  20 atoms\n",
      "Finding 1-2 1-3 1-4 neighbors ...\n",
      "  special bond factors lj:    0        0        0       \n",
      "  special bond factors coul:  0        0        0       \n",
      "     0 = max # of 1-2 neighbors\n",
      "     0 = max # of 1-3 neighbors\n",
      "     0 = max # of 1-4 neighbors\n",
      "     1 = max # of special neighbors\n",
      "  special bonds CPU = 0.000 seconds\n",
      "  read_data CPU = 0.003 seconds\n",
      "WARNING: Using 'neigh_modify every 1 delay 0 check yes' setting during minimization (../min.cpp:187)\n",
      "PPPM initialization ...\n",
      "  using 12-bit tables for long-range coulomb (../kspace.cpp:342)\n",
      "  G vector (1/distance) = 0.2797659\n",
      "  grid = 8 5 9\n",
      "  stencil order = 5\n",
      "  estimated absolute RMS force accuracy = 0.00037362396\n",
      "  estimated relative force accuracy = 2.5946748e-05\n",
      "  using double precision KISS FFT\n",
      "  3d grid and FFT values/proc = 2880 360\n",
      "Generated 3 of 3 mixed pair_coeff terms from arithmetic mixing rule\n",
      "Neighbor list info ...\n",
      "  update every 1 steps, delay 0 steps, check yes\n",
      "  max neighbors/atom: 2000, page size: 100000\n",
      "  master list distance cutoff = 12\n",
      "  ghost atom cutoff = 12\n",
      "  binsize = 6, bins = 2 1 3\n",
      "  1 neighbor lists, perpetual/occasional/extra = 1 0 0\n",
      "  (1) pair lj/cut/coul/long, perpetual\n",
      "      attributes: half, newton on\n",
      "      pair build: half/bin/newton/tri\n",
      "      stencil: half/bin/3d/tri\n",
      "      bin: standard\n",
      "Setting up cg style minimization ...\n",
      "  Unit style    : metal\n",
      "  Current step  : 0\n",
      "WARNING: Energy due to 3 extra global DOFs will be included in minimizer energies\n",
      "Per MPI rank memory allocation (min/avg/max) = 7.727 | 7.727 | 7.727 Mbytes\n",
      "   Step          Temp          PotEng         KinEng         TotEng         Press            Lx             Ly             Lz             Xy             Xz             Yz      \n",
      "         0   0             -38.805887      0             -38.805887      10929.796      10.4342        4.7905         17.761         0              0              0            \n",
      "         5   0             -38.917925      0             -38.917925      239.36253      10.543886      4.8983798      18.033546      0              0              0            \n",
      "Loop time of 0.00636533 on 1 procs for 5 steps with 20 atoms\n",
      "\n",
      "100.0% CPU use with 1 MPI tasks x no OpenMP threads\n",
      "\n",
      "Minimization stats:\n",
      "  Stopping criterion = energy tolerance\n",
      "  Energy initial, next-to-last, final = \n",
      "     -38.8058867792057  -38.9178805637777  -38.9179252496338\n",
      "  Force two-norm initial, final = 10.620011 1.4995606\n",
      "  Force max component initial, final = 6.7400757 0.98625632\n",
      "  Final line search alpha, max atom move = 1.9772915e-05 1.9501162e-05\n",
      "  Iterations, force evaluations = 5 18\n",
      "\n",
      "MPI task timing breakdown:\n",
      "Section |  min time  |  avg time  |  max time  |%varavg| %total\n",
      "---------------------------------------------------------------\n",
      "Pair    | 0.0010289  | 0.0010289  | 0.0010289  |   0.0 | 16.16\n",
      "Bond    | 2.321e-06  | 2.321e-06  | 2.321e-06  |   0.0 |  0.04\n",
      "Kspace  | 0.0019948  | 0.0019948  | 0.0019948  |   0.0 | 31.34\n",
      "Neigh   | 0          | 0          | 0          |   0.0 |  0.00\n",
      "Comm    | 0.0001038  | 0.0001038  | 0.0001038  |   0.0 |  1.63\n",
      "Output  | 0          | 0          | 0          |   0.0 |  0.00\n",
      "Modify  | 0          | 0          | 0          |   0.0 |  0.00\n",
      "Other   |            | 0.003236   |            |       | 50.83\n",
      "\n",
      "Nlocal:             20 ave          20 max          20 min\n",
      "Histogram: 1 0 0 0 0 0 0 0 0 0\n",
      "Nghost:            904 ave         904 max         904 min\n",
      "Histogram: 1 0 0 0 0 0 0 0 0 0\n",
      "Neighs:           1644 ave        1644 max        1644 min\n",
      "Histogram: 1 0 0 0 0 0 0 0 0 0\n",
      "\n",
      "Total # of neighbors = 1644\n",
      "Ave neighs/atom = 82.2\n",
      "Ave special neighs/atom = 0\n",
      "Neighbor list builds = 0\n",
      "Dangerous builds = 0\n",
      "System init for write_data ...\n",
      "PPPM initialization ...\n",
      "  using 12-bit tables for long-range coulomb (../kspace.cpp:342)\n",
      "  G vector (1/distance) = 0.27849019\n",
      "  grid = 8 5 9\n",
      "  stencil order = 5\n",
      "  estimated absolute RMS force accuracy = 0.00039217937\n",
      "  estimated relative force accuracy = 2.723535e-05\n",
      "  using double precision KISS FFT\n",
      "  3d grid and FFT values/proc = 2520 360\n",
      "Generated 3 of 3 mixed pair_coeff terms from arithmetic mixing rule\n",
      "Total wall time: 0:00:00\n"
     ]
    },
    {
     "data": {
      "text/plain": [
       "CompletedProcess(args='lmp_mpi < start.lmp ', returncode=0)"
      ]
     },
     "execution_count": 5,
     "metadata": {},
     "output_type": "execute_result"
    }
   ],
   "source": [
    "unit_cell = io.read('delta.cif')\n",
    "rep1 = 1\n",
    "rep2 = 1\n",
    "rep3 = 1\n",
    "\n",
    "supercell = unit_cell.repeat((rep1,rep2,rep3))\n",
    "supercell = sort(supercell)\n",
    "\n",
    "# set point charges\n",
    "i = 0\n",
    "num_atoms = len(supercell.get_chemical_symbols())\n",
    "charge_array = [0]*num_atoms\n",
    "while i < num_atoms:\n",
    "    if(supercell.get_chemical_symbols()[i] == 'Cs'):\n",
    "        charge_array[i]= 0.86\n",
    "    if(supercell.get_chemical_symbols()[i] == 'I'):\n",
    "        charge_array[i]= -0.57\n",
    "    if(supercell.get_chemical_symbols()[i] == 'Pb'):\n",
    "        charge_array[i]= 0.85\n",
    "    i = i + 1\n",
    "\n",
    "supercell.set_initial_charges(charges=charge_array)\n",
    "view(supercell)\n",
    "#print(supercell) \n",
    "\n",
    "\n",
    "write_lammps_data('data.CPI', supercell, atom_style = 'full', force_skew=True, units='real')\n",
    "\n",
    "with open(\"start.lmp\",\"w\") as f:\n",
    "    print(\"\"\"\n",
    "###\n",
    "dimension       3\n",
    "boundary        p p p\n",
    "units           metal\n",
    "atom_style      full\n",
    "variable        seed world 1428\n",
    "variable        freq equal 500\n",
    "read_data       data.CPI\n",
    "mass            1 132.904999 # Cs\n",
    "mass            2 126.900002 # I\n",
    "mass            3 204.199997 # Pb\n",
    "pair_style      lj/cut/coul/long 8.0 10.0\n",
    "pair_modify     mix arithmetic\n",
    "neigh_modify    every 1\n",
    "kspace_style    pppm 1e-4\n",
    "dielectric 1.0\n",
    "variable ACs  equal \"0.07728\"\n",
    "variable rCs  equal \"3.584\"\n",
    "variable APb  equal \"0.001086\"\n",
    "variable rPb  equal \"3.210\"\n",
    "variable AI   equal \"0.06389\"\n",
    "variable rI   equal \"4.014\"\n",
    "pair_coeff      1 1 ${ACs}    ${rCs}\n",
    "pair_coeff      2 2 ${AI}     ${rI}\n",
    "pair_coeff      3 3 ${APb}    ${rPb}\n",
    "thermo          ${freq}\n",
    "thermo_style    custom step temp pe ke etotal press lx ly lz xy xz yz\n",
    "# Minimization\n",
    "\n",
    "min_style cg\n",
    "fix 1 all box/relax aniso 0.0 vmax 0.01\n",
    "minimize        1.0e-4 1.0e-6 1000 10000\n",
    "unfix 1\n",
    "write_data      data.min\n",
    "\"\"\",file=f)\n",
    "\n",
    "subprocess.run(\"lmp_mpi < start.lmp \",shell=True)"
   ]
  },
  {
   "cell_type": "code",
   "execution_count": null,
   "id": "e0356ebf",
   "metadata": {},
   "outputs": [],
   "source": [
    "ar = np.array(scan)\n",
    "n = (ar + 643.62615739)*1000/4\n",
    "n"
   ]
  },
  {
   "cell_type": "code",
   "execution_count": 7,
   "id": "a68ea2fe",
   "metadata": {},
   "outputs": [
    {
     "data": {
      "text/plain": [
       "0.21153699999999986"
      ]
     },
     "execution_count": 7,
     "metadata": {},
     "output_type": "execute_result"
    }
   ],
   "source": [
    "38.91 -38.698463  "
   ]
  },
  {
   "cell_type": "code",
   "execution_count": 9,
   "id": "1cfa0c96",
   "metadata": {},
   "outputs": [
    {
     "data": {
      "text/plain": [
       "10.55"
      ]
     },
     "execution_count": 9,
     "metadata": {},
     "output_type": "execute_result"
    }
   ],
   "source": [
    "211/20"
   ]
  },
  {
   "cell_type": "markdown",
   "id": "88e9ce29",
   "metadata": {},
   "source": [
    "# tests in VASP -- all units are in Kcal/mol -- PAW pseudo potentials"
   ]
  },
  {
   "cell_type": "code",
   "execution_count": 64,
   "id": "24cb05c5",
   "metadata": {},
   "outputs": [
    {
     "data": {
      "image/png": "[encoded data removed]",
      "text/plain": [
       "<Figure size 400x400 with 1 Axes>"
      ]
     },
     "metadata": {},
     "output_type": "display_data"
    }
   ],
   "source": [
    "final_e = [-3.50349405*96.491566, -3.54266076*96.491566, -3.54266076*96.491566, -3.54685410*96.491566, -3.54744399*96.491566]\n",
    "\n",
    "k_points = [4,5,6,8,10]\n",
    "\n",
    "fig, (ax) = plt.subplots(figsize=(4,4))\n",
    "\n",
    "ax.plot(k_points,final_e, color='magenta', ls='--', lw=2, markersize=10, marker='h')\n",
    "ax.set_xlabel('K-points mesh', fontsize = 14)\n",
    "ax.set_ylabel('Total energy (KJ/mol)', fontsize = 14)\n",
    "ax.tick_params(labelsize=12)\n",
    "ax.set_title('K-points mesh, vs Total energy', fontsize=13)\n",
    "\n",
    "plt.savefig('kp.png')"
   ]
  },
  {
   "cell_type": "markdown",
   "id": "6ad128e7",
   "metadata": {},
   "source": [
    "# relative energy between delta and gamma"
   ]
  },
  {
   "cell_type": "code",
   "execution_count": 11,
   "id": "72f829d4",
   "metadata": {},
   "outputs": [
    {
     "data": {
      "image/png": "[encoded data removed]",
      "text/plain": [
       "<Figure size 800x400 with 1 Axes>"
      ]
     },
     "metadata": {},
     "output_type": "display_data"
    }
   ],
   "source": [
    "name = ['LDA', 'PBE', 'PBESOL', 'r2SCAN', 'r2SCAN_RVV10', 'PBE_D3', 'optB86b']\n",
    "\n",
    "final_gamma_delta = [(65.07439064 - 65.57145986)*96.491566/4, \n",
    "                     (56.72030774 - 56.91759026)*96.491566/4, \\\n",
    "                     (60.79387215 - 61.10493712)*96.491566/4, \\\n",
    "                     (644.00896805 - 644.32015158)*96.491566/4, \\\n",
    "                     (638.22184174 - 638.72289283)*96.491566/4, \\\n",
    "                     (61.69465655 - 62.22204117)*96.491566/4, \\\n",
    "                     (12.78607759 - 13.37563823)*96.491566/4]\n",
    "\n",
    "fig, (ax) = plt.subplots(figsize=(8,4))\n",
    "\n",
    "ax.bar(name,final_gamma_delta, color='purple', width = 0.25, alpha=0.8)\n",
    "plt.axhline(y = -14.4, color = 'r', linestyle = '--', lw=2, label='experiment')\n",
    "#plt.axhline(y = -15.1, color = 'k', linestyle = '--', lw=1)\n",
    "#plt.axhline(y = -13.7, color = 'k', linestyle = '--', lw=1)\n",
    "\n",
    "plt.axhline(y = (333.12892725-333.67466505)*96.491566/4, color = 'b', linestyle = '--', lw=2, label='RPA@optB86b')\n",
    "plt.axhline(y = (332.77932369-333.29082568)*96.491566/4, color = 'g', linestyle = '--', lw=2, label='RPA@PBE')\n",
    "plt.axhline(y = (332.90154074-333.68606579)*96.491566/4, color = '#2b8cbe', linestyle = '--', lw=2, label='RPA@experiment')\n",
    "\n",
    "ax.set_ylabel('$\\Delta E_{\\delta-\\gamma}$ (KJ/mol/f.u.)', fontsize = 12)\n",
    "ax.set_title('Relative energy between hexagonal and orthorhombic phases', fontsize=10)\n",
    "ax.tick_params(labelsize=9)\n",
    "\n",
    "ax.legend(loc='center left', bbox_to_anchor=(1.0, 0.2))\n",
    "\n",
    "plt.savefig('relative_energy_delta_ortho.png')"
   ]
  },
  {
   "cell_type": "markdown",
   "id": "82811aba",
   "metadata": {},
   "source": [
    "# relative energy between delta and tetragonal"
   ]
  },
  {
   "cell_type": "code",
   "execution_count": 8,
   "id": "e254bc59",
   "metadata": {},
   "outputs": [
    {
     "data": {
      "image/png": "[encoded data removed]",
      "text/plain": [
       "<Figure size 800x400 with 1 Axes>"
      ]
     },
     "metadata": {},
     "output_type": "display_data"
    }
   ],
   "source": [
    "name = ['LDA', 'PBE', 'PBESOL', 'r2SCAN', 'r2SCAN_RVV10', 'PBE_D3', 'optB86b']\n",
    "\n",
    "\n",
    "final_tetra_delta = [(64.78845861-65.57145986)*96.491566/4,\n",
    "                     (56.57425576-56.91759026)*96.491566/4, \\\n",
    "                     (60.61986445-61.10493712)*96.491566/4, \\\n",
    "                     (643.85245352-644.32015158)*96.491566/4, \\\n",
    "                     (638.01226069-638.72289283)*96.491566/4, \\\n",
    "                     (61.53159823-62.22204117)*96.491566/4, \\\n",
    "                     (12.52193933-13.37563823)*96.491566/4]\n",
    "\n",
    "fig, (ax) = plt.subplots(figsize=(8,4))\n",
    "\n",
    "ax.bar(name,final_tetra_delta, color='purple', width = 0.25, alpha=0.8)\n",
    "\n",
    "plt.axhline(y = (332.84671640-333.67466505)*96.491566/4, color = 'b', linestyle = '--', lw=2, label='RPA@optB86b')\n",
    "#plt.axhline(y = (332.67866303-333.29082568)*96.491566/4, color = 'g', linestyle = '--', lw=2, label='RPA@PBE')\n",
    "\n",
    "ax.set_ylabel('$\\Delta E_{\\delta - \\\\beta}$ (KJ/mol/f.u.)', fontsize = 12)\n",
    "ax.set_title('Relative energy between hexagonal and tetragonal phases', fontsize=10)\n",
    "ax.tick_params(labelsize=9)\n",
    "\n",
    "ax.legend(loc='center left', bbox_to_anchor=(1.0, 0.2))\n",
    "\n",
    "plt.savefig('relative_energy_delta_tetra.png')"
   ]
  },
  {
   "cell_type": "markdown",
   "id": "c7d65ccf",
   "metadata": {},
   "source": [
    "# relative energy between delta and cubic"
   ]
  },
  {
   "cell_type": "code",
   "execution_count": 7,
   "id": "92af3a7e",
   "metadata": {},
   "outputs": [
    {
     "data": {
      "image/png": "[encoded data removed]",
      "text/plain": [
       "<Figure size 800x400 with 1 Axes>"
      ]
     },
     "metadata": {},
     "output_type": "display_data"
    }
   ],
   "source": [
    "name = ['LDA', 'PBE', 'PBESOL', 'r2SCAN', 'r2SCAN_RVV10', 'PBE_D3', 'optB86b']\n",
    "\n",
    "\n",
    "final_cubic_delta = [(64.20073426-65.57145986)*96.491566/4, \n",
    "                     (56.25959565-56.91759026)*96.491566/4, \\\n",
    "                     (60.22900901-61.10493712)*96.491566/4, \\\n",
    "                     (643.51816345-644.32015158)*96.491566/4, \\\n",
    "                     (637.58837030-638.72289283)*96.491566/4, \\\n",
    "                     (61.08882819-62.22204117)*96.491566/4, \\\n",
    "                     (12.05534908-13.37563823)*96.491566/4]\n",
    "\n",
    "fig, (ax) = plt.subplots(figsize=(8,4))\n",
    "\n",
    "ax.bar(name,final_cubic_delta, color='purple', width = 0.25, alpha=0.8)\n",
    "\n",
    "plt.axhline(y = (332.52419812-333.67466505)*96.491566/4, color = 'b', linestyle = '--', lw=2, label='RPA@optB86b')\n",
    "plt.axhline(y =(332.23421324-333.29082568)*96.491566/4 , color = 'g', linestyle = '--', lw=2, label='RPA@PBE')\n",
    "plt.axhline(y = (332.48900244- 333.68606579)*96.491566/4, color = '#2b8cbe', linestyle = '--', lw=2, label='RPA@experiment')\n",
    "\n",
    "ax.set_ylabel('$\\Delta E_{\\delta - \\\\alpha }$ (KJ/mol/f.u.)', fontsize = 12)\n",
    "ax.set_title('Relative energy between cubic and hexagonal phases', fontsize=10)\n",
    "ax.tick_params(labelsize=9)\n",
    "\n",
    "ax.legend(loc='center left', bbox_to_anchor=(1.0, 0.2))\n",
    "\n",
    "plt.savefig('relative_energy_delta_cubic.png')"
   ]
  },
  {
   "cell_type": "markdown",
   "id": "2fcba76b",
   "metadata": {},
   "source": [
    "# K-points vs relative energies"
   ]
  },
  {
   "cell_type": "code",
   "execution_count": 68,
   "id": "2441958f",
   "metadata": {
    "scrolled": true
   },
   "outputs": [
    {
     "data": {
      "image/png": "[encoded data removed]",
      "text/plain": [
       "<Figure size 500x300 with 1 Axes>"
      ]
     },
     "metadata": {},
     "output_type": "display_data"
    }
   ],
   "source": [
    "final_e = [(-15.48797090 + 14.90315775)*96.491566/4, \\\n",
    "           (-15.48770692 + 14.90300606)*96.491566/4, \\\n",
    "           (-15.48892371 + 14.90414345)*96.491566/4, \\\n",
    "           (-15.48921575 + 14.90443114)*96.491566/4 ]\n",
    "energy_cutoff = [700, 1000, 1200, 1400]\n",
    "\n",
    "fig, (ax) = plt.subplots(figsize=(5,3))\n",
    "\n",
    "ax.plot(energy_cutoff,final_e, color='magenta', ls='--', lw=2, markersize=10, marker='h')\n",
    "ax.set_xlabel('Energy cut-off (eV)', fontsize = 10)\n",
    "ax.set_ylabel('$\\Delta E_{\\delta-\\gamma}$ (KJ/mol/f.u.)', fontsize = 10)\n",
    "ax.tick_params(labelsize=10)\n",
    "plt.savefig('kp_energy.png')"
   ]
  },
  {
   "cell_type": "markdown",
   "id": "3ea67be9",
   "metadata": {},
   "source": [
    "# Lattice constants"
   ]
  },
  {
   "cell_type": "markdown",
   "id": "dd18a962",
   "metadata": {},
   "source": [
    "# A(a)"
   ]
  },
  {
   "cell_type": "code",
   "execution_count": 113,
   "id": "379f1513",
   "metadata": {},
   "outputs": [
    {
     "data": {
      "text/plain": [
       "<matplotlib.legend.Legend at 0x7f80732135e0>"
      ]
     },
     "execution_count": 113,
     "metadata": {},
     "output_type": "execute_result"
    },
    {
     "data": {
      "image/png": "[encoded data removed]",
      "text/plain": [
       "<Figure size 200x400 with 1 Axes>"
      ]
     },
     "metadata": {},
     "output_type": "display_data"
    }
   ],
   "source": [
    "color = ['k','#1b9e77','#d95f02','#7570b3','#e7298a','#66a61e','#e6ab02', '#756bb1']\n",
    "name = ['cubic', 'tetragonal', 'orthorhombic', 'hexagonal']\n",
    "experiments =  [ 6.2894, 8.82690, 8.8561, 10.4342]\n",
    "LDA =          [ 6.146660, 8.4303758, 8.954106, 10.159746]\n",
    "PBE =          [ 6.399354, 8.8466444, 9.126874, 10.852635]\n",
    "PBESOL =       [ 6.246568, 8.6098156, 8.959170, 10.394264]\n",
    "r2SCAN =       [ 6.338471, 8.75489, 9.045442, 10.662793]\n",
    "r2SCAN_RVV10 = [ 6.283513, 8.66078, 9.058704, 10.477776] \n",
    "PBE_D3 =       [ 6.293247, 8.65962, 9.024770, 10.456538]\n",
    "optB86b =      [ 6.2815595, 8.646043,  9.084961, 10.420323]\n",
    "\n",
    "fig, (ax) = plt.subplots(figsize=(2,4))\n",
    "\n",
    "ax.scatter(name[0], experiments[0], label = 'experiment', color = color[0], marker = 'o', s=60)\n",
    "ax.scatter(name[0], LDA[0], label = 'LDA', color = color[1], marker = 'x')\n",
    "ax.scatter(name[0], PBE[0], label = 'PBE', color = color[1], marker = '*')\n",
    "ax.scatter(name[0], PBESOL[0], label = 'PBESOL', color = color[2], marker = 'v')\n",
    "ax.scatter(name[0], r2SCAN[0], label = 'r2SCAN', color = color[3], marker = '<')\n",
    "ax.scatter(name[0], r2SCAN_RVV10[0], label = 'r2SCAN_RVV10', color = color[4], marker = 'h')\n",
    "ax.scatter(name[0], PBE_D3[0], label = 'PBE_D3', color = color[5], marker = '^')\n",
    "ax.scatter(name[0], optB86b[0], label = 'optB86b', color = color[6], marker = '^')\n",
    "\n",
    "ax.set_ylabel('Lattice constant a[$\\AA$]', fontsize = 12)\n",
    "ax.tick_params(labelsize=12)\n",
    "ax.set_title(r'$a[\\AA]$', fontsize=12)\n",
    "ax.legend(loc='center left', bbox_to_anchor=(1, 0.5))\n",
    "\n",
    "#plt.savefig('cubic-a.png')"
   ]
  },
  {
   "cell_type": "code",
   "execution_count": 114,
   "id": "95538de1",
   "metadata": {},
   "outputs": [
    {
     "data": {
      "text/plain": [
       "Text(0.5, 1.0, '$a[\\\\AA]$')"
      ]
     },
     "execution_count": 114,
     "metadata": {},
     "output_type": "execute_result"
    },
    {
     "data": {
      "image/png": "[encoded data removed]",
      "text/plain": [
       "<Figure size 200x400 with 1 Axes>"
      ]
     },
     "metadata": {},
     "output_type": "display_data"
    }
   ],
   "source": [
    "color = ['k','#1b9e77','#d95f02','#7570b3','#e7298a','#66a61e','#e6ab02', '#756bb1']\n",
    "name = ['cubic', 'tetragonal', 'orthorhombic', 'hexagonal']\n",
    "\n",
    "experiments =  [ 6.2894, 8.82690, 8.8561, 10.4342]\n",
    "LDA =          [ 6.146660, 8.4303758, 8.954106, 10.159746]\n",
    "PBE =          [ 6.399354, 8.8466444, 9.126874, 10.852635]\n",
    "PBESOL =       [ 6.246568, 8.6098156, 8.959170, 10.394264]\n",
    "r2SCAN =       [ 6.338471, 8.75489, 9.045442, 10.662793]\n",
    "r2SCAN_RVV10 = [ 6.283513, 8.66078, 9.058704, 10.477776] \n",
    "PBE_D3 =       [ 6.293247, 8.65962, 9.024770, 10.456538]\n",
    "optB86b =      [ 6.2815595, 8.646043,  9.084961, 10.420323]\n",
    "\n",
    "\n",
    "fig, (ax) = plt.subplots(figsize=(2,4))\n",
    "\n",
    "ax.scatter(name[1], experiments[1], label = 'experiment', color = color[0], marker = 'o', s=60)\n",
    "ax.scatter(name[1], LDA[1], label = 'LDA', color = color[1], marker = 'x')\n",
    "ax.scatter(name[1], PBE[1], label = 'PBE', color = color[1], marker = '*')\n",
    "ax.scatter(name[1], PBESOL[1], label = 'PBESOL', color = color[2], marker = 'v')\n",
    "ax.scatter(name[1], r2SCAN[1], label = 'r2SCAN', color = color[3], marker = '<')\n",
    "ax.scatter(name[1], r2SCAN_RVV10[1], label = 'r2SCAN_RVV10', color = color[4], marker = 'h')\n",
    "ax.scatter(name[1], PBE_D3[1], label = 'PBE_D3', color = color[5], marker = '^')\n",
    "ax.scatter(name[1], optB86b[1], label = 'optB86b', color = color[6], marker = '^')\n",
    "\n",
    "#ax.set_ylabel('Lattice constant a[$\\AA$]', fontsize = 12)\n",
    "ax.tick_params(labelsize=12)\n",
    "ax.set_title(r'$a[\\AA]$', fontsize=12)\n",
    "#ax.legend(loc='center left', bbox_to_anchor=(1, 0.5))\n",
    "\n",
    "#plt.savefig('cubic-a.png')"
   ]
  },
  {
   "cell_type": "code",
   "execution_count": 115,
   "id": "85557197",
   "metadata": {},
   "outputs": [
    {
     "data": {
      "text/plain": [
       "Text(0.5, 1.0, '$a[\\\\AA]$')"
      ]
     },
     "execution_count": 115,
     "metadata": {},
     "output_type": "execute_result"
    },
    {
     "data": {
      "image/png": "[encoded data removed]",
      "text/plain": [
       "<Figure size 200x400 with 1 Axes>"
      ]
     },
     "metadata": {},
     "output_type": "display_data"
    }
   ],
   "source": [
    "color = ['k','#1b9e77','#d95f02','#7570b3','#e7298a','#66a61e','#e6ab02', '#756bb1']\n",
    "name = ['cubic', 'tetragonal', 'orthorhombic', 'hexagonal']\n",
    "\n",
    "experiments =  [ 6.2894, 8.82690, 8.8561, 10.4342]\n",
    "LDA =          [ 6.146660, 8.4303758, 8.954106, 10.159746]\n",
    "PBE =          [ 6.399354, 8.8466444, 9.126874, 10.852635]\n",
    "PBESOL =       [ 6.246568, 8.6098156, 8.959170, 10.394264]\n",
    "r2SCAN =       [ 6.338471, 8.75489, 9.045442, 10.662793]\n",
    "r2SCAN_RVV10 = [ 6.283513, 8.66078, 9.058704, 10.477776] \n",
    "PBE_D3 =       [ 6.293247, 8.65962, 9.024770, 10.456538]\n",
    "optB86b =      [ 6.2815595, 8.646043,  9.084961, 10.420323]\n",
    "\n",
    "fig, (ax) = plt.subplots(figsize=(2,4))\n",
    "\n",
    "ax.scatter(name[2], experiments[2], label = 'experiment', color = color[0], marker = 'o', s=60)\n",
    "ax.scatter(name[2], LDA[2], label = 'LDA', color = color[1], marker = 'x')\n",
    "ax.scatter(name[2], PBE[2], label = 'PBE', color = color[1], marker = '*')\n",
    "ax.scatter(name[2], PBESOL[2], label = 'PBESOL', color = color[2], marker = 'v')\n",
    "ax.scatter(name[2], r2SCAN[2], label = 'r2SCAN', color = color[3], marker = '<')\n",
    "ax.scatter(name[2], r2SCAN_RVV10[2], label = 'r2SCAN_RVV10', color = color[4], marker = 'h')\n",
    "ax.scatter(name[2], PBE_D3[2], label = 'PBE_D3', color = color[5], marker = '^')\n",
    "ax.scatter(name[2], optB86b[2], label = 'optB86b', color = color[6], marker = '^')\n",
    "\n",
    "#ax.set_ylabel('Lattice constant a[$\\AA$]', fontsize = 12)\n",
    "ax.tick_params(labelsize=12)\n",
    "ax.set_title(r'$a[\\AA]$', fontsize=12)\n",
    "\n",
    "#ax.legend(loc='center left', bbox_to_anchor=(1, 0.5))\n",
    "\n",
    "#plt.savefig('cubic-a.png')"
   ]
  },
  {
   "cell_type": "code",
   "execution_count": 116,
   "id": "bf0b551f",
   "metadata": {},
   "outputs": [
    {
     "data": {
      "text/plain": [
       "Text(0.5, 1.0, '$a[\\\\AA]$')"
      ]
     },
     "execution_count": 116,
     "metadata": {},
     "output_type": "execute_result"
    },
    {
     "data": {
      "image/png": "[encoded data removed]",
      "text/plain": [
       "<Figure size 200x400 with 1 Axes>"
      ]
     },
     "metadata": {},
     "output_type": "display_data"
    }
   ],
   "source": [
    "color = ['k','#1b9e77','#d95f02','#7570b3','#e7298a','#66a61e','#e6ab02', '#756bb1']\n",
    "name = ['cubic', 'tetragonal', 'orthorhombic', 'hexagonal']\n",
    "experiments =  [ 6.2894, 8.82690, 8.8561, 10.4342]\n",
    "LDA =          [ 6.146660, 8.4303758, 8.954106, 10.159746]\n",
    "PBE =          [ 6.399354, 8.8466444, 9.126874, 10.852635]\n",
    "PBESOL =       [ 6.246568, 8.6098156, 8.959170, 10.394264]\n",
    "r2SCAN =       [ 6.338471, 8.75489, 9.045442, 10.662793]\n",
    "r2SCAN_RVV10 = [ 6.283513, 8.66078, 9.058704, 10.477776] \n",
    "PBE_D3 =       [ 6.293247, 8.65962, 9.024770, 10.456538]\n",
    "optB86b =      [ 6.2815595, 8.646043,  9.084961, 10.420323]\n",
    "\n",
    "fig, (ax) = plt.subplots(figsize=(2,4))\n",
    "\n",
    "ax.scatter(name[3], experiments[3], label = 'experiment', color = color[0], marker = 'o', s=60)\n",
    "ax.scatter(name[3], LDA[3], label = 'LDA', color = color[1], marker = 'x')\n",
    "ax.scatter(name[3], PBE[3], label = 'PBE', color = color[1], marker = '*')\n",
    "ax.scatter(name[3], PBESOL[3], label = 'PBESOL', color = color[2], marker = 'v')\n",
    "ax.scatter(name[3], r2SCAN[3], label = 'r2SCAN', color = color[3], marker = '<')\n",
    "ax.scatter(name[3], r2SCAN_RVV10[3], label = 'r2SCAN_RVV10', color = color[4], marker = 'h')\n",
    "ax.scatter(name[3], PBE_D3[3], label = 'PBE_D3', color = color[5], marker = '^')\n",
    "ax.scatter(name[3], optB86b[3], label = 'optB86b', color = color[6], marker = '^')\n",
    "\n",
    "#ax.set_ylabel('Lattice constant a[$\\AA$]', fontsize = 12)\n",
    "ax.tick_params(labelsize=12)\n",
    "\n",
    "ax.set_title(r'$a[\\AA]$', fontsize=12)\n",
    "#ax.legend(loc='center left', bbox_to_anchor=(1, 0.5))\n",
    "\n",
    "#plt.savefig('cubic-a.png')"
   ]
  },
  {
   "cell_type": "markdown",
   "id": "1d53c082",
   "metadata": {},
   "source": [
    "# C(c)"
   ]
  },
  {
   "cell_type": "code",
   "execution_count": 106,
   "id": "bae22f5e",
   "metadata": {},
   "outputs": [
    {
     "data": {
      "text/plain": [
       "Text(0.5, 1.0, '$c[\\\\AA]$')"
      ]
     },
     "execution_count": 106,
     "metadata": {},
     "output_type": "execute_result"
    },
    {
     "data": {
      "image/png": "[encoded data removed]",
      "text/plain": [
       "<Figure size 200x400 with 1 Axes>"
      ]
     },
     "metadata": {},
     "output_type": "display_data"
    }
   ],
   "source": [
    "color = ['k','#1b9e77','#d95f02','#7570b3','#e7298a','#66a61e','#e6ab02', '#756bb1']\n",
    "name = ['cubic', 'tetragonal', 'orthorhombic', 'hexagonal']\n",
    "experiments =  [ 6.2894, 6.29902,  12.4722, 17.761]\n",
    "LDA =          [ 6.1466610, 6.2830458, 12.200399, 17.279312]\n",
    "PBE =          [ 6.3993531, 6.4908438, 12.667594, 18.241273]\n",
    "PBESOL =       [ 6.2465682, 6.3553377, 12.382041, 17.692544]\n",
    "r2SCAN =       [ 6.3384716, 6.45114,   12.578016, 18.058348]\n",
    "r2SCAN_RVV10 = [ 6.2835143, 6.412251,  12.485524, 17.785168] \n",
    "PBE_D3 =       [ 6.2932463, 6.4137443, 12.509329, 17.829310]\n",
    "optB86b =      [ 6.2815597, 6.4147369, 12.477545, 17.752914]\n",
    "\n",
    "fig, (ax) = plt.subplots(figsize=(2,4))\n",
    "\n",
    "ax.scatter(name[1], experiments[1], label = 'experiment', color = color[0], marker = 'o', s=60)\n",
    "ax.scatter(name[1], LDA[1], label = 'LDA', color = color[1], marker = 'x')\n",
    "ax.scatter(name[1], PBE[1], label = 'PBE', color = color[1], marker = '*')\n",
    "ax.scatter(name[1], PBESOL[1], label = 'PBESOL', color = color[2], marker = 'v')\n",
    "ax.scatter(name[1], r2SCAN[1], label = 'r2SCAN', color = color[3], marker = '<')\n",
    "ax.scatter(name[1], r2SCAN_RVV10[1], label = 'r2SCAN_RVV10', color = color[4], marker = 'h')\n",
    "ax.scatter(name[1], PBE_D3[1], label = 'PBE_D3', color = color[5], marker = '^')\n",
    "ax.scatter(name[1], optB86b[1], label = 'optB86b', color = color[6], marker = '^')\n",
    "\n",
    "\n",
    "ax.set_ylabel('Lattice constant c[$\\AA$]', fontsize = 12)\n",
    "ax.tick_params(labelsize=12)\n",
    "\n",
    "ax.legend(loc='center left', bbox_to_anchor=(1, 0.5))\n",
    "ax.set_title(r'$c[\\AA]$', fontsize=12)\n",
    "#plt.savefig('lattice.png')"
   ]
  },
  {
   "cell_type": "code",
   "execution_count": 104,
   "id": "cdd83359",
   "metadata": {},
   "outputs": [
    {
     "data": {
      "text/plain": [
       "Text(0.5, 1.0, '$c[\\\\AA]$')"
      ]
     },
     "execution_count": 104,
     "metadata": {},
     "output_type": "execute_result"
    },
    {
     "data": {
      "image/png": "[encoded data removed]",
      "text/plain": [
       "<Figure size 200x400 with 1 Axes>"
      ]
     },
     "metadata": {},
     "output_type": "display_data"
    }
   ],
   "source": [
    "color = ['k','#1b9e77','#d95f02','#7570b3','#e7298a','#66a61e','#e6ab02', '#756bb1']\n",
    "name = ['cubic', 'tetragonal', 'orthorhombic', 'hexagonal']\n",
    "experiments =  [ 6.2894, 6.29902,  12.4722, 17.761]\n",
    "LDA =          [ 6.1466610, 6.2830458, 12.200399, 17.279312]\n",
    "PBE =          [ 6.3993531, 6.4908438, 12.667594, 18.241273]\n",
    "PBESOL =       [ 6.2465682, 6.3553377, 12.382041, 17.692544]\n",
    "r2SCAN =       [ 6.3384716, 6.45114,   12.578016, 18.058348]\n",
    "r2SCAN_RVV10 = [ 6.2835143, 6.412251,  12.485524, 17.785168] \n",
    "PBE_D3 =       [ 6.2932463, 6.4137443, 12.509329, 17.829310]\n",
    "optB86b =      [ 6.2815597, 6.4147369, 12.477545, 17.752914]\n",
    "\n",
    "fig, (ax) = plt.subplots(figsize=(2,4))\n",
    "\n",
    "ax.scatter(name[2], experiments[2], label = 'experiment', color = color[0], marker = 'o', s=60)\n",
    "ax.scatter(name[2], LDA[2], label = 'LDA', color = color[1], marker = 'x')\n",
    "ax.scatter(name[2], PBE[2], label = 'PBE', color = color[1], marker = '*')\n",
    "ax.scatter(name[2], PBESOL[2], label = 'PBESOL', color = color[2], marker = 'v')\n",
    "ax.scatter(name[2], r2SCAN[2], label = 'r2SCAN', color = color[3], marker = '<')\n",
    "ax.scatter(name[2], r2SCAN_RVV10[2], label = 'r2SCAN_RVV10', color = color[4], marker = 'h')\n",
    "ax.scatter(name[2], PBE_D3[2], label = 'PBE_D3', color = color[5], marker = '^')\n",
    "ax.scatter(name[2], optB86b[2], label = 'optB86b', color = color[6], marker = '^')\n",
    "\n",
    "\n",
    "#ax.set_ylabel('Lattice constant c[$\\AA$]', fontsize = 12)\n",
    "ax.tick_params(labelsize=12)\n",
    "ax.set_title(r'$c[\\AA]$', fontsize=12)\n",
    "#ax.legend(loc='center left', bbox_to_anchor=(1, 0.5))\n"
   ]
  },
  {
   "cell_type": "code",
   "execution_count": 103,
   "id": "1ed2d710",
   "metadata": {},
   "outputs": [
    {
     "data": {
      "text/plain": [
       "Text(0.5, 1.0, '$c[\\\\AA]$')"
      ]
     },
     "execution_count": 103,
     "metadata": {},
     "output_type": "execute_result"
    },
    {
     "data": {
      "image/png": "[encoded data removed]",
      "text/plain": [
       "<Figure size 200x400 with 1 Axes>"
      ]
     },
     "metadata": {},
     "output_type": "display_data"
    }
   ],
   "source": [
    "color = ['k','#1b9e77','#d95f02','#7570b3','#e7298a','#66a61e','#e6ab02', '#756bb1']\n",
    "name = ['cubic', 'tetragonal', 'orthorhombic', 'hexagonal']\n",
    "experiments =  [ 6.2894, 6.29902,  12.4722, 17.761]\n",
    "LDA =          [ 6.1466610, 6.2830458, 12.200399, 17.279312]\n",
    "PBE =          [ 6.3993531, 6.4908438, 12.667594, 18.241273]\n",
    "PBESOL =       [ 6.2465682, 6.3553377, 12.382041, 17.692544]\n",
    "r2SCAN =       [ 6.3384716, 6.45114,   12.578016, 18.058348]\n",
    "r2SCAN_RVV10 = [ 6.2835143, 6.412251,  12.485524, 17.785168] \n",
    "PBE_D3 =       [ 6.2932463, 6.4137443, 12.509329, 17.829310]\n",
    "optB86b =      [ 6.2815597, 6.4147369, 12.477545, 17.752914]\n",
    "\n",
    "fig, (ax) = plt.subplots(figsize=(2,4))\n",
    "\n",
    "ax.scatter(name[3], experiments[3], label = 'experiment', color = color[0], marker = 'o', s=60)\n",
    "ax.scatter(name[3], LDA[3], label = 'LDA', color = color[1], marker = 'x')\n",
    "ax.scatter(name[3], PBE[3], label = 'PBE', color = color[1], marker = '*')\n",
    "ax.scatter(name[3], PBESOL[3], label = 'PBESOL', color = color[2], marker = 'v')\n",
    "ax.scatter(name[3], r2SCAN[3], label = 'r2SCAN', color = color[3], marker = '<')\n",
    "ax.scatter(name[3], r2SCAN_RVV10[3], label = 'r2SCAN_RVV10', color = color[4], marker = 'h')\n",
    "ax.scatter(name[3], PBE_D3[3], label = 'PBE_D3', color = color[5], marker = '^')\n",
    "ax.scatter(name[3], optB86b[3], label = 'optB86b', color = color[6], marker = '^')\n",
    "\n",
    "\n",
    "#ax.set_ylabel('Lattice constant c[$\\AA$]', fontsize = 12)\n",
    "ax.tick_params(labelsize=12)\n",
    "ax.set_title(r'$c[\\AA]$', fontsize=12)\n",
    "#ax.legend(loc='center left', bbox_to_anchor=(1, 0.5))\n"
   ]
  },
  {
   "cell_type": "code",
   "execution_count": null,
   "id": "f9572bb6",
   "metadata": {},
   "outputs": [],
   "source": []
  }
 ],
 "metadata": {
  "kernelspec": {
   "display_name": "Python 3",
   "language": "python",
   "name": "python3"
  },
  "language_info": {
   "codemirror_mode": {
    "name": "ipython",
    "version": 3
   },
   "file_extension": ".py",
   "mimetype": "text/x-python",
   "name": "python",
   "nbconvert_exporter": "python",
   "pygments_lexer": "ipython3",
   "version": "3.9.12"
  }
 },
 "nbformat": 4,
 "nbformat_minor": 5
}
