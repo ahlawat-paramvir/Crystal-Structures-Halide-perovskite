{
 "cells": [
  {
   "cell_type": "code",
   "execution_count": null,
   "id": "acf0e39d",
   "metadata": {},
   "outputs": [],
   "source": [
    "import matplotlib.pyplot as plt\n",
    "import numpy as np\n",
    "import subprocess\n",
    "import plumed\n",
    "import nglview\n",
    "from ase.optimize.sciopt import *               \n",
    "from ase.utils.geometry import *\n",
    "from ase.lattice.spacegroup import crystal\n",
    "from ase.visualize import *\n",
    "from ase.lattice.surface import surface\n",
    "from ase import Atoms\n",
    "from ase import io\n",
    "from ase.io import *\n",
    "from ase.io.cif import read_cif\n",
    "from ase.io.vasp import write_vasp\n",
    "from abtem.visualize import show_atoms\n",
    "from ase.visualize.plot import plot_atoms\n",
    "from ase.build import add_adsorbate\n",
    "from ase.io.proteindatabank import read_proteindatabank\n",
    "from ase.io.lammpsdata import write_lammps_data"
   ]
  },
  {
   "cell_type": "markdown",
   "id": "c49b92b1",
   "metadata": {},
   "source": [
    "## cubic 3C polymorph: http://dx.doi.org/10.1016/j.jpcs.2008.05.007\n",
    "- Experimental data\n",
    "   - ICSD 161481\n",
    "   - ICSD Structure : Cs I3 Pb\n",
    "   - Space Group: P m 3 m (221)\n",
    "   - Cell: a 6.2894Å b 6.2894Å c 6.2894Å, α 90° β 90° γ 90° "
   ]
  },
  {
   "cell_type": "code",
   "execution_count": 1,
   "id": "4411a65d",
   "metadata": {},
   "outputs": [
    {
     "ename": "NameError",
     "evalue": "name 'io' is not defined",
     "output_type": "error",
     "traceback": [
      "\u001b[0;31m---------------------------------------------------------------------------\u001b[0m",
      "\u001b[0;31mNameError\u001b[0m                                 Traceback (most recent call last)",
      "Input \u001b[0;32mIn [1]\u001b[0m, in \u001b[0;36m<cell line: 1>\u001b[0;34m()\u001b[0m\n\u001b[0;32m----> 1\u001b[0m structure \u001b[38;5;241m=\u001b[39m \u001b[43mio\u001b[49m\u001b[38;5;241m.\u001b[39mread(\u001b[38;5;124m'\u001b[39m\u001b[38;5;124mcubic.cif\u001b[39m\u001b[38;5;124m'\u001b[39m)\n\u001b[1;32m      2\u001b[0m structure \u001b[38;5;241m=\u001b[39m sort(structure)\n\u001b[1;32m      3\u001b[0m view(structure)\n",
      "\u001b[0;31mNameError\u001b[0m: name 'io' is not defined"
     ]
    }
   ],
   "source": [
    "structure = io.read('cubic.cif')\n",
    "structure = sort(structure)\n",
    "view(structure)\n",
    "write_vasp('cubic_unit_cell.vasp', structure, vasp5=True, direct=True)\n"
   ]
  },
  {
   "cell_type": "markdown",
   "id": "0e698489",
   "metadata": {},
   "source": [
    "## tetragonal polymorph:  https://dx.doi.org/10.25505/fiz.icsd.cc20vqj4\n",
    "- Experimental data\n",
    "  - Space Group: P 4/m b m (127)\n",
    "  - Cell: a 8.82690(3)Å b 8.82690(3)Å c 6.29902(3)Å, α 90° β 90° γ 90° "
   ]
  },
  {
   "cell_type": "code",
   "execution_count": null,
   "id": "06a8def6",
   "metadata": {},
   "outputs": [],
   "source": [
    "structure = io.read('beta.cif')\n",
    "structure = sort(structure)\n",
    "view(structure)\n",
    "write_vasp('tetragonal_unit_cell.vasp', structure, vasp5=True, direct=True)"
   ]
  },
  {
   "cell_type": "markdown",
   "id": "d8e5b91c",
   "metadata": {},
   "source": [
    "## orthorhombic polymorph: http://dx.doi.org/10.1021/acsenergylett.8b00672\n",
    "- Experimental data\n",
    "  - ICSD 264725 \n",
    "  - ICSD Structure : (Cs I3 Pb)n\n",
    "  - Space Group: P n a m (62)\n",
    "  - Cell: a 8.8561(4)Å b 8.5766(3)Å c 12.4722(6)Å, α 90° β 90° γ 90° "
   ]
  },
  {
   "cell_type": "code",
   "execution_count": null,
   "id": "a386be59",
   "metadata": {},
   "outputs": [],
   "source": [
    "structure = io.read('ortho.cif')\n",
    "structure = sort(structure)\n",
    "view(structure)\n",
    "write_vasp('ortho_unit_cell.vasp', structure, vasp5=True, direct=True)"
   ]
  },
  {
   "cell_type": "markdown",
   "id": "38a5abe6",
   "metadata": {},
   "source": [
    "## hexagonal polymorph: https://dx.doi.org/10.5517/cc11hdmk\n",
    "- Experimental data\n",
    "  - Crystal details\n",
    "  - Space group \tP n m a (62)\n",
    "  - Unit cell \ta 10.4342(7)Å b 4.7905(3)Å c 17.7610(10)Å\n",
    "  - α 90.00° β 90.00° γ 90.00°\n",
    "  - Cell volume \t887.78\n",
    "  - Reduced cell \ta 4.791Å b 10.434Å c 17.761Å\n",
    "  - α 90.000° β 90.000° γ 90.000°\n",
    "  - Polymorph \tdelta polymorph\n",
    "  - Colour \tyellow\n"
   ]
  },
  {
   "cell_type": "code",
   "execution_count": null,
   "id": "50e2d69e",
   "metadata": {},
   "outputs": [],
   "source": [
    "structure = io.read('delta.cif')\n",
    "structure = sort(structure)\n",
    "view(structure)\n",
    "write_vasp('delta_unit_cell.vasp', structure, vasp5=True, direct=True)"
   ]
  }
 ],
 "metadata": {
  "kernelspec": {
   "display_name": "Python 3",
   "language": "python",
   "name": "python3"
  },
  "language_info": {
   "codemirror_mode": {
    "name": "ipython",
    "version": 3
   },
   "file_extension": ".py",
   "mimetype": "text/x-python",
   "name": "python",
   "nbconvert_exporter": "python",
   "pygments_lexer": "ipython3",
   "version": "3.9.12"
  }
 },
 "nbformat": 4,
 "nbformat_minor": 5
}
