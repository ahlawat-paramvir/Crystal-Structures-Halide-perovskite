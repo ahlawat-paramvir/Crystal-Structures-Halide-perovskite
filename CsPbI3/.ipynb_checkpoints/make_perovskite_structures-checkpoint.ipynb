{
 "cells": [
  {
   "cell_type": "code",
   "execution_count": 2,
   "id": "210e053c",
   "metadata": {},
   "outputs": [
    {
     "data": {
      "application/vnd.jupyter.widget-view+json": {
       "model_id": "24f52d509a154207bca932036eb719f4",
       "version_major": 2,
       "version_minor": 0
      },
      "text/plain": []
     },
     "metadata": {},
     "output_type": "display_data"
    },
    {
     "name": "stderr",
     "output_type": "stream",
     "text": [
      "/home/ahlawat/.local/lib/python3.9/site-packages/ase/utils/geometry.py:8: UserWarning: Moved to ase.geometry and ase.build\n",
      "  warnings.warn('Moved to ase.geometry and ase.build')\n",
      "/home/ahlawat/.local/lib/python3.9/site-packages/ase/lattice/spacegroup.py:5: UserWarning: Moved to ase.spacegroup\n",
      "  warnings.warn('Moved to ase.spacegroup')\n",
      "/home/ahlawat/.local/lib/python3.9/site-packages/ase/lattice/surface.py:17: UserWarning: Moved to ase.build\n",
      "  warnings.warn('Moved to ase.build')\n"
     ]
    }
   ],
   "source": [
    "import matplotlib.pyplot as plt\n",
    "import numpy as np\n",
    "import subprocess\n",
    "import plumed\n",
    "import nglview\n",
    "from ase.optimize.sciopt import *               \n",
    "from ase.utils.geometry import *\n",
    "from ase.lattice.spacegroup import crystal\n",
    "from ase.visualize import *\n",
    "from ase.lattice.surface import surface\n",
    "from ase import Atoms\n",
    "from ase import io\n",
    "from ase.io import *\n",
    "from ase.io.cif import read_cif\n",
    "from ase.io.vasp import write_vasp\n",
    "from abtem.visualize import show_atoms\n",
    "from ase.visualize.plot import plot_atoms\n",
    "from ase.build import add_adsorbate\n",
    "from ase.io.proteindatabank import read_proteindatabank\n",
    "from ase.io.lammpsdata import write_lammps_data"
   ]
  },
  {
   "cell_type": "markdown",
   "id": "a538ce58",
   "metadata": {},
   "source": [
    "# make a 3C cubic perovskite structure"
   ]
  },
  {
   "cell_type": "code",
   "execution_count": 4,
   "id": "8a46515a",
   "metadata": {},
   "outputs": [
    {
     "data": {
      "text/plain": [
       "<Popen: returncode: None args: ['/home/ahlawat/miniconda3/bin/python', '-m',...>"
      ]
     },
     "execution_count": 4,
     "metadata": {},
     "output_type": "execute_result"
    }
   ],
   "source": [
    "from math import sqrt\n",
    "from ase import Atoms\n",
    "a = 6.2894\n",
    "str_3C = Atoms('CsI3Pb',\n",
    "              scaled_positions=[(0.5, 0.5, 0.5),\n",
    "                                (0.0, 0.0, 0.5),\n",
    "                                (0.0, 0.5, 0.0),\n",
    "                                (0.5, 0.0, 0.0),\n",
    "                                (0.0, 0.0, 0.0)],\n",
    "              cell=[a,a,a, 90, 90, 90],\n",
    "              pbc=True)\n",
    "\n",
    "view(str_3C)\n"
   ]
  },
  {
   "cell_type": "markdown",
   "id": "ca248dbb",
   "metadata": {},
   "source": [
    "# make a hexagonal face-sharing perovskite structure"
   ]
  },
  {
   "cell_type": "code",
   "execution_count": null,
   "id": "54253135",
   "metadata": {},
   "outputs": [],
   "source": [
    "from ase import Atoms\n",
    "str_hexa = Atoms('Pb2I6Cs2',\n",
    "              scaled_positions=[(0.000000,      0.000000,      0.500000),  \n",
    "                                (0.000000,      0.000000,      0.000000),    \n",
    "                                (0.337958,      0.168935,      0.750001),     \n",
    "                                (0.830978,      0.168935,      0.750001),     \n",
    "                                (0.830952,      0.662018,      0.750001),     \n",
    "                                (0.661929,      0.830953,      0.250000),     \n",
    "                                (0.169025,      0.830953,      0.250000),     \n",
    "                                (0.169002,      0.338004,      0.250000),     \n",
    "                                (0.662948,      0.376972,      0.248039),     \n",
    "                                (0.373838,      0.668663,      0.747563)],    \n",
    "              cell=[8.6603, 8.6603, 7.9022, 90, 90, 120],\n",
    "              pbc=True)\n",
    "\n",
    "str_pero1 = str_hexa.repeat((4,4,4))\n",
    "view(str_hexa)"
   ]
  },
  {
   "cell_type": "markdown",
   "id": "b10159ff",
   "metadata": {},
   "source": [
    "# make a hexagonal edge-sharing perovskite structure"
   ]
  },
  {
   "cell_type": "code",
   "execution_count": null,
   "id": "a21048c5",
   "metadata": {},
   "outputs": [],
   "source": []
  },
  {
   "cell_type": "markdown",
   "id": "0a6a5485",
   "metadata": {},
   "source": [
    "# make a 3R structure"
   ]
  },
  {
   "cell_type": "code",
   "execution_count": 6,
   "id": "6813b2ef",
   "metadata": {},
   "outputs": [
    {
     "data": {
      "text/plain": [
       "<Popen: returncode: None args: ['/home/ahlawat/miniconda3/bin/python', '-m',...>"
      ]
     },
     "execution_count": 6,
     "metadata": {},
     "output_type": "execute_result"
    }
   ],
   "source": [
    "from ase import Atoms\n",
    "\n",
    "str_3R = Atoms('Cs3I9Pb3',\n",
    "              scaled_positions=[( 0.3285414654444574,  0.7036741641245904,  0.634863712892631),\n",
    "                                ( 0.6619414654444575,  0.3702741641245903,  0.363673712892631),\n",
    "                                (-0.0047585345555424,  0.0369741641245904,  0.031731712892631),\n",
    "                                ( 0.1661999999999998,  0.8337999999999998,  0.337570000000000),\n",
    "                                ( 0.1662000000000001,  0.3324000000000000,  0.337570000000000),\n",
    "                                ( 0.6675999999999999,  0.8338000000000000,  0.337570000000000),\n",
    "                                ( 0.8330300000000000,  0.1669700000000000,  0.671070000000000),\n",
    "                                ( 0.8330299999999999,  0.6660600000000001,  0.671070000000000),\n",
    "                                ( 0.3339399999999999,  0.1669699999999999,  0.671070000000000),\n",
    "                                ( 0.4995600000000000,  0.5004400000000000,  0.004470000000000),\n",
    "                                ( 0.4995600000000000,  0.9991200000000000,  0.004470000000000),\n",
    "                                ( 0.0008800000000000,  0.5004400000000000,  0.004470000000000),\n",
    "                                ( 0.6667000000000001,  0.3333000000000000,  0.837860000000000),\n",
    "                                ( 0.0000000000000000,  0.0000000000000000,  0.504540000000000),\n",
    "                                ( 0.3332999999999999,  0.6667000000000000,  0.170920000000000)],    \n",
    "              cell=[8.982, 8.982, 11.006, 90, 90, 120],\n",
    "              pbc=True)\n",
    "view(str_3R)\n",
    "str_pero = str_3R.repeat((4,4,4))\n",
    "view(str_pero)\n"
   ]
  },
  {
   "cell_type": "markdown",
   "id": "435e508e",
   "metadata": {},
   "source": [
    "# make a 4H structure"
   ]
  },
  {
   "cell_type": "code",
   "execution_count": null,
   "id": "c817f7c5",
   "metadata": {},
   "outputs": [],
   "source": []
  },
  {
   "cell_type": "markdown",
   "id": "6e187fed",
   "metadata": {},
   "source": [
    "# make a 6H structure"
   ]
  },
  {
   "cell_type": "code",
   "execution_count": null,
   "id": "84de9ae0",
   "metadata": {},
   "outputs": [],
   "source": []
  },
  {
   "cell_type": "markdown",
   "id": "2e784f39",
   "metadata": {},
   "source": [
    "# make a 9R structure"
   ]
  },
  {
   "cell_type": "code",
   "execution_count": null,
   "id": "0e51e5d6",
   "metadata": {},
   "outputs": [],
   "source": []
  },
  {
   "cell_type": "markdown",
   "id": "288fdc99",
   "metadata": {},
   "source": [
    "# make a 8H structure"
   ]
  },
  {
   "cell_type": "code",
   "execution_count": null,
   "id": "de77bb02",
   "metadata": {},
   "outputs": [],
   "source": []
  },
  {
   "cell_type": "markdown",
   "id": "c02bde4c",
   "metadata": {},
   "source": [
    "# make a double perovskite -Cs2AgBiBr6  structure "
   ]
  },
  {
   "cell_type": "code",
   "execution_count": null,
   "id": "4ce3f59c",
   "metadata": {},
   "outputs": [],
   "source": [
    "# str_3R.set_cell(str_hexa.cell, scale_atoms=True)\n",
    "\n",
    "# zmin = str_3R.positions[:, 2].min()\n",
    "\n",
    "# zmax = str_hexa.positions[:, 2].max()\n",
    "\n",
    "# str_3R.positions += (0, 0, zmax-zmin+3.4)\n",
    "\n",
    "# new = str_3R + str_hexa\n",
    "# new.set_cell([8.982, 8.982, 18.5])\n",
    "\n",
    "# view(new)\n",
    "\n",
    "# str_pero = new.repeat((4,4,4))\n",
    "# view(str_pero)\n",
    "\n",
    "# write('try.pdb',str_pero,format='proteindatabank')"
   ]
  }
 ],
 "metadata": {
  "kernelspec": {
   "display_name": "Python 3",
   "language": "python",
   "name": "python3"
  },
  "language_info": {
   "codemirror_mode": {
    "name": "ipython",
    "version": 3
   },
   "file_extension": ".py",
   "mimetype": "text/x-python",
   "name": "python",
   "nbconvert_exporter": "python",
   "pygments_lexer": "ipython3",
   "version": "3.9.12"
  }
 },
 "nbformat": 4,
 "nbformat_minor": 5
}
