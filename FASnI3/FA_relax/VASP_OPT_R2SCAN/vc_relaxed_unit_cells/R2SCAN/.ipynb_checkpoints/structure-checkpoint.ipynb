{
 "cells": [
  {
   "cell_type": "code",
   "execution_count": 3,
   "id": "014e45e9",
   "metadata": {
    "scrolled": true
   },
   "outputs": [],
   "source": [
    "import matplotlib.pyplot as plt\n",
    "from ase.optimize.sciopt import *               \n",
    "from ase.utils.geometry import *\n",
    "from ase.lattice.spacegroup import crystal\n",
    "from ase.visualize import *\n",
    "from ase.lattice.surface import surface\n",
    "from ase import Atoms\n",
    "from ase import io\n",
    "from ase.io.cif import read_cif\n",
    "from ase.io.cif import write_cif\n",
    "from ase.io.vasp import write_vasp\n",
    "from abtem.visualize import show_atoms\n",
    "from ase.visualize.plot import plot_atoms\n",
    "from ase.build import add_adsorbate\n",
    "import random"
   ]
  },
  {
   "cell_type": "markdown",
   "id": "c3237541",
   "metadata": {},
   "source": []
  },
  {
   "cell_type": "markdown",
   "id": "b977a966",
   "metadata": {},
   "source": [
    "# variable cell relaxed unit cells"
   ]
  },
  {
   "cell_type": "markdown",
   "id": "0e39a7ff",
   "metadata": {},
   "source": [
    "## cubic pm3m polymorph: https://dx.doi.org/10.25505/fiz.icsd.cc2c6f67\n",
    "- Experimental data\n",
    "  - Space Group: P m 3 m (221)\n",
    "  - Cell: a 6.3074(15)Å b 6.3074(15)Å c 6.3074(15)Å, α 90° β 90° γ 90° \n"
   ]
  },
  {
   "cell_type": "code",
   "execution_count": 6,
   "id": "c96fb712",
   "metadata": {},
   "outputs": [
    {
     "data": {
      "text/plain": [
       "Atoms(symbols='C4H20I12N8Sn4', pbc=True, cell=[[12.902716300351834, 0.5851959279409982, 0.3144504316740282], [0.2913622751106885, 6.448472250300896, 0.2752929030037901], [0.3315414982756976, 0.5711262838517221, 12.767113982540605]])"
      ]
     },
     "execution_count": 6,
     "metadata": {},
     "output_type": "execute_result"
    }
   ],
   "source": [
    "structure = io.read('cubic.vasp')\n",
    "supercell = structure.repeat((2,1,2))\n",
    "supercell = sort(supercell)\n",
    "view(supercell)\n",
    "write_vasp('cubic_supercell.vasp', supercell, vasp5=True, direct=True)\n",
    "supercell"
   ]
  },
  {
   "cell_type": "markdown",
   "id": "539f31f5",
   "metadata": {},
   "source": [
    "## tetragonal P4/mbm polymorph: https://dx.doi.org/10.5517/ccdc.csd.cc258rmv\n",
    "- Experimental data\n",
    "   - Space group \tP 4/m b m (127)\n",
    "   - Unit cell \ta 8.8821(6)Å b 8.8821(6)Å c 6.2698(6)Å α 90° β 90° γ 90°\n",
    "   - Cell volume \t494.64\n",
    "   - Reduced cell \ta 6.270Å b 8.882Å c 8.882Å α 90.000° β 90.000° γ 90.000°\n",
    "   - Temperature (K) \t200"
   ]
  },
  {
   "cell_type": "code",
   "execution_count": null,
   "id": "f23a812a",
   "metadata": {},
   "outputs": [],
   "source": []
  },
  {
   "cell_type": "markdown",
   "id": "d91bea86",
   "metadata": {},
   "source": [
    "## orthorhombic P4bm polymorph: https://dx.doi.org/10.5517/ccdc.csd.cc258rnw\n",
    "\n",
    "- Experimental data\n",
    "  - Space group \tP 4 b m (100)\n",
    "  - Unit cell \ta 8.8379(11)Å b 8.8379(11)Å c 12.4066(17)Å α 90° β 90° γ 90°\n",
    "  - Cell volume \t969.06\n",
    "  - Reduced cell \ta 8.838Å b 8.838Å c 12.407Å α 90.000° β 90.000° γ 90.000°\n",
    "  - Temperature (K) \t100"
   ]
  },
  {
   "cell_type": "code",
   "execution_count": null,
   "id": "9d95f872",
   "metadata": {},
   "outputs": [],
   "source": []
  },
  {
   "cell_type": "markdown",
   "id": "8f2079c5",
   "metadata": {},
   "source": [
    "## Hexagonal polymorph of Dimethyleammonium(DMA)SnI3 not FASnI3: http://dx.doi.org/10.1524/zkri.1996.211.1.48\n",
    "\n",
    "- Experimental data\n",
    "   - Formula \tC2 H8 N +,I3 Sn -\n",
    "   - Analogues \tIsotypic with the Ge analogue\n",
    "   - Crystal details\n",
    "   - Space group \tP n a 21 (33)\n",
    "   - Unit cell \ta 14.637(3)Å b 8.786(2)Å c 8.288(2)Å α 90° β 90° γ 90°\n",
    "   - Cell volume \t1065.84\n",
    "   - Reduced cell \ta 8.288Å b 8.786Å c 14.637Å\n",
    "   - α 90.000° β 90.000° γ 90.000° \n",
    "   - Colour \tyellow"
   ]
  },
  {
   "cell_type": "code",
   "execution_count": null,
   "id": "6eb30532",
   "metadata": {},
   "outputs": [],
   "source": []
  }
 ],
 "metadata": {
  "kernelspec": {
   "display_name": "Python 3",
   "language": "python",
   "name": "python3"
  },
  "language_info": {
   "codemirror_mode": {
    "name": "ipython",
    "version": 3
   },
   "file_extension": ".py",
   "mimetype": "text/x-python",
   "name": "python",
   "nbconvert_exporter": "python",
   "pygments_lexer": "ipython3",
   "version": "3.9.12"
  }
 },
 "nbformat": 4,
 "nbformat_minor": 5
}
